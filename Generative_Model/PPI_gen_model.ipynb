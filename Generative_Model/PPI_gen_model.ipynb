{
 "cells": [
  {
   "cell_type": "markdown",
   "metadata": {},
   "source": [
    "# This is the modified generative model which utilizes the protein interaction information for generating gene clusters. The main generative model is implemented using [Snorkel](https://github.com/HazyResearch/snorkel)"
   ]
  },
  {
   "cell_type": "code",
   "execution_count": null,
   "metadata": {},
   "outputs": [],
   "source": [
    "from scipy import sparse\n",
    "import numpy as np\n",
    "from snorkel.learning import GenerativeModel\n",
    "import ast\n",
    "import os\n",
    "import json"
   ]
  },
  {
   "cell_type": "markdown",
   "metadata": {},
   "source": [
    "## Loading the MOO-based solutions as weak supervision solutions"
   ]
  },
  {
   "cell_type": "code",
   "execution_count": null,
   "metadata": {},
   "outputs": [],
   "source": [
    "dataset_type = 'prostrate'\n",
    "path_prefix = 'data/'+dataset_type+'_panther/'\n",
    "filepath = path_prefix + dataset_type + '_NDS_labels_50.txt'"
   ]
  },
  {
   "cell_type": "markdown",
   "metadata": {},
   "source": [
    "## Loading the protein interaction infromation as the weights of the MOO-based solutions "
   ]
  },
  {
   "cell_type": "code",
   "execution_count": null,
   "metadata": {},
   "outputs": [],
   "source": [
    "weightpath = path_prefix + dataset_type + '_weight_list.txt'\n",
    "ppitext = '_withPPI'\n",
    "filename = os.path.splitext(os.path.basename(filepath))[0]"
   ]
  },
  {
   "cell_type": "markdown",
   "metadata": {},
   "source": [
    "## Accessing MOO-based solutions along with their PPI-based weights"
   ]
  },
  {
   "cell_type": "code",
   "execution_count": null,
   "metadata": {},
   "outputs": [],
   "source": [
    "w = open(weightpath, 'r')\n",
    "f = open(filepath, 'r')\n",
    "\n",
    "x = f.readlines()\n",
    "weights = w.read()\n",
    "\n",
    "lis_0 = x[-1]\n",
    "lis_0 = lis_0[7:]\n",
    "\n",
    "lis_0 = ast.literal_eval(lis_0)\n",
    "weights = ast.literal_eval(weights)"
   ]
  },
  {
   "cell_type": "markdown",
   "metadata": {},
   "source": [
    "<b>lis_0</b> is a list of list which contains MOO-based solutions and their corresponding weights is stored in <b>weights</b>"
   ]
  },
  {
   "cell_type": "markdown",
   "metadata": {},
   "source": [
    "## Loading of three GO-based solutions\n",
    "\n",
    "These three types of GO-based solutions are obtained from [PANTHER](http://www.pantherdb.org/) classification system. These solutions are based on the biological process(BP), molecular function(MF) and cellular component(CC) of the genes.   "
   ]
  },
  {
   "cell_type": "code",
   "execution_count": null,
   "metadata": {},
   "outputs": [],
   "source": [
    "with open(path_prefix + 'panther_labels_bp.txt') as json_file:\n",
    "    bio_labels1 = json.load(json_file)\n",
    "\n",
    "with open(path_prefix + 'panther_labels_mf.txt') as json_file:\n",
    "    bio_labels2 = json.load(json_file)\n",
    "\n",
    "with open(path_prefix + 'panther_labels_cc.txt') as json_file:\n",
    "    bio_labels3 = json.load(json_file)"
   ]
  },
  {
   "cell_type": "markdown",
   "metadata": {},
   "source": [
    "## Appending all MOO-based solutions along with the GO-based solutions in a list "
   ]
  },
  {
   "cell_type": "code",
   "execution_count": null,
   "metadata": {},
   "outputs": [],
   "source": [
    "lis_1 = []\n",
    "\n",
    "for row in lis_0:\n",
    "    row = [x+1 for x in row]\n",
    "    lis_1.append(row)\n",
    "\n",
    "\n",
    "lis_1.append(bio_labels1)\n",
    "lis_1.append(bio_labels2)\n",
    "lis_1.append(bio_labels3)"
   ]
  },
  {
   "cell_type": "markdown",
   "metadata": {},
   "source": [
    "Converting solution list(<b>lis_1</b>) into a sparse matrix"
   ]
  },
  {
   "cell_type": "code",
   "execution_count": null,
   "metadata": {},
   "outputs": [],
   "source": [
    "labels = np.array(lis_1)\n",
    "sparse_labels = sparse.csr_matrix(np.transpose(labels))"
   ]
  },
  {
   "cell_type": "markdown",
   "metadata": {},
   "source": [
    "## Initilizing and training of the generative model.\n",
    "\n",
    "Here, <b><i>LF_acc_prior_weights</i></b> is the argument of the <b><i>gen_model</i></b> which accepts the protein interaction information as the weights. \n",
    "Set <b><i>LF_acc_prior_weights</i></b> = none if dont use any explicitly defined weights"
   ]
  },
  {
   "cell_type": "code",
   "execution_count": null,
   "metadata": {},
   "outputs": [],
   "source": [
    "gen_model = GenerativeModel()\n",
    "gen_model.train(sparse_labels, LF_acc_prior_weights = weights) \n",
    "train_marginals = gen_model.marginals(sparse_labels)"
   ]
  },
  {
   "cell_type": "markdown",
   "metadata": {},
   "source": [
    "## Storing the final labels and marginals in the file.  "
   ]
  },
  {
   "cell_type": "code",
   "execution_count": null,
   "metadata": {},
   "outputs": [],
   "source": [
    "with open(path_prefix + 'Panther_Marginals_' + filename + ppitext + '.txt', 'w') as f:\n",
    "    for item in train_marginals:\n",
    "        f.write(\"%s\\n\" % item)\n",
    "\n",
    "\n",
    "\n",
    "final_labels = []\n",
    "for row in train_marginals:\n",
    "\tfinal_labels.append(row.tolist().index(max(row)))\n",
    "\n",
    "\n",
    "with open(path_prefix + 'Panther_gen_' + filename + ppitext + '.txt', 'w') as f:\n",
    "    for item in final_labels:\n",
    "        f.write(\"%s\\n\" % item)"
   ]
  }
 ],
 "metadata": {
  "kernelspec": {
   "display_name": "Python 3",
   "language": "python",
   "name": "python3"
  },
  "language_info": {
   "codemirror_mode": {
    "name": "ipython",
    "version": 3
   },
   "file_extension": ".py",
   "mimetype": "text/x-python",
   "name": "python",
   "nbconvert_exporter": "python",
   "pygments_lexer": "ipython3",
   "version": "3.6.6"
  }
 },
 "nbformat": 4,
 "nbformat_minor": 2
}
