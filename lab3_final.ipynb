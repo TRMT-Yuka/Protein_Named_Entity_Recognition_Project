{
 "cells": [
  {
   "cell_type": "raw",
   "metadata": {},
   "source": [
    "gene_info = mg.getgene(\"ENSG00000141570\")\n",
    "gene_info[\"ensembl\"]\n",
    "# {'gene': 'ENSG00000141570',\n",
    "#  'protein': ['ENSP00000269385', 'ENSP00000405058', 'ENSP00000408753'],\n",
    "#  'transcript': ['ENST00000269385',....],\n",
    "#  'translation': [{'protein': 'ENSP00000269385', 'rna': 'ENST00000269385'},....],\n",
    "#  'type_of_gene': 'protein_coding'}\n",
    "gene_info[\"ensembl\"][\"gene\"]\n",
    "# 遺伝子に関する情報\n",
    "gene_info[\"ensembl\"][\"protein\"]\n",
    "# 生成されるタンパク質種類\n",
    "\n",
    "gene_info[\"entrezgene\"]\n",
    "#人間とか犬とか生物のカテゴリを表すID\n",
    "\n",
    "gene_info[\"pdb\"]\n",
    "#PDB IDは重複しない４文字のコードで、タンパク質\n",
    "#データバンクの各エントリーに割り振られます。\n",
    "#最初の文字は必ず1から9までの数字で、残りの３文字は\n",
    "#アルファベットまたは数字が使われます。\n",
    "\n",
    "gene_info[\"generif\"]\n",
    "# 文献と出現テキストのリスト\n",
    "# [{'pubmed': 17332741,'text': 'CBX8 is an essenti...'}]\n",
    "\n",
    "gene_info[\"name\"]\n",
    "#正式名称\n",
    "\n",
    "gene_info[\"other_names\"]\n",
    "# 正式名称表記ゆれ\n",
    "\n",
    "gene_info[\"pdb\"]\n",
    "#タンパク質固有ID\n",
    "# ['2N4Q', '3I91', '5EQ0']"
   ]
  },
  {
   "cell_type": "code",
   "execution_count": 6,
   "metadata": {},
   "outputs": [
    {
     "name": "stdout",
     "output_type": "stream",
     "text": [
      ".ipynb_checkpoints\n",
      "aimed_bioc_result.csv\n",
      "bioinfer_bioc_result.csv\n",
      "hprd50_bioc_result.csv\n",
      "iepa_bioc_result.csv\n",
      "lll_bioc_result.csv\n"
     ]
    }
   ],
   "source": [
    "import os\n",
    "\n",
    "files = os.listdir(\"data_query/PROT/\")\n",
    "for a_file in files:\n",
    "    print(a_file)"
   ]
  },
  {
   "cell_type": "code",
   "execution_count": 7,
   "metadata": {},
   "outputs": [],
   "source": [
    "import pandas as pd\n",
    "from biothings_client import get_client\n",
    "\n",
    "def MakeData_result(f):\n",
    "    query_data = pd.read_csv(\"data_query/PROT/\"+f).values.tolist()\n",
    "    query_data = [row[0] for row in query_data if row[3]>1]#最高得点の結果が一つ以上のプロテイン名のリスト\n",
    "\n",
    "    mg = get_client(\"gene\")\n",
    "    new_list = []\n",
    "    \n",
    "    i = 0\n",
    "    for keyword in query_data:\n",
    "        i = i + 1\n",
    "        if i%10 == 0:\n",
    "            print(i,\"/\",len(query_data))\n",
    "        \n",
    "        result = mg.query(keyword)\n",
    "        max_score = result[\"max_score\"]\n",
    "        \n",
    "        for hit in result[\"hits\"]:\n",
    "            \n",
    "            if hit[\"_score\"] == max_score:\n",
    "                l = [keyword]#1\n",
    "                try:\n",
    "                    l.append(hit[\"symbol\"])#2\n",
    "                except:\n",
    "                    l.append(None)\n",
    "                \n",
    "                try:\n",
    "                    gene_info = mg.getgene(hit[\"entrezgene\"],field=\"all\")\n",
    "                except:\n",
    "                    l.append(\"No_Data\")\n",
    "                    l.append(\"No_Data\")\n",
    "                    l.append(\"No_Data\")\n",
    "                    l.append(\"No_Data\")\n",
    "                    l.append(\"No_Data\")\n",
    "                    break\n",
    "                    \n",
    "                #_idは別物として扱う\n",
    "                try:\n",
    "                    l.append(hit[\"_id\"])#3\n",
    "                except:\n",
    "                    l.append(None)\n",
    "                try:\n",
    "                    l.append(hit[\"entrezgene\"])#4\n",
    "                except:\n",
    "                    l.append(None)\n",
    "                    \n",
    "                try:\n",
    "                    l.append(gene_info[\"ensembl\"][\"gene\"])#5\n",
    "                except:\n",
    "                    l.append(None)\n",
    "                try:\n",
    "                    l.append(gene_info[\"pdb\"][0])#6\n",
    "                except:\n",
    "                    l.append(None)\n",
    "                try:\n",
    "                    l.append(hit[\"name\"])#7\n",
    "                except:\n",
    "                    l.append(None)\n",
    "                new_list.append(l)\n",
    "    return new_list"
   ]
  },
  {
   "cell_type": "code",
   "execution_count": 10,
   "metadata": {
    "scrolled": true
   },
   "outputs": [
    {
     "name": "stdout",
     "output_type": "stream",
     "text": [
      "lll_bioc_result.csv\n",
      "10 / 71\n",
      "20 / 71\n",
      "30 / 71\n",
      "40 / 71\n",
      "50 / 71\n",
      "60 / 71\n",
      "70 / 71\n"
     ]
    }
   ],
   "source": [
    "for f_csv in files[5:6]:\n",
    "    print(f_csv)\n",
    "    \n",
    "    new_list = MakeData_result(f_csv)\n",
    "    df = pd.DataFrame(new_list)\n",
    "    df = df.iloc[:,0:7]\n",
    "    df.columns = [\"surface\",\"symbol\",\"_id\",\"entrezgene\", \"ensembl_id\", \"pdb_id\", \"name\"]\n",
    "    f = f_csv.replace(\"_result.csv\",\"\")\n",
    "    df.to_csv('data_final/'+f+'.csv',index=False)"
   ]
  },
  {
   "cell_type": "code",
   "execution_count": 7,
   "metadata": {},
   "outputs": [
    {
     "ename": "NameError",
     "evalue": "name 'gene_info_all' is not defined",
     "output_type": "error",
     "traceback": [
      "\u001b[1;31m---------------------------------------------------------------------------\u001b[0m",
      "\u001b[1;31mNameError\u001b[0m                                 Traceback (most recent call last)",
      "\u001b[1;32m<ipython-input-7-618956200f5c>\u001b[0m in \u001b[0;36m<module>\u001b[1;34m\u001b[0m\n\u001b[1;32m----> 1\u001b[1;33m \u001b[0mlen\u001b[0m\u001b[1;33m(\u001b[0m\u001b[0mgene_info_all\u001b[0m\u001b[1;33m)\u001b[0m\u001b[1;33m\u001b[0m\u001b[1;33m\u001b[0m\u001b[0m\n\u001b[0m",
      "\u001b[1;31mNameError\u001b[0m: name 'gene_info_all' is not defined"
     ]
    }
   ],
   "source": [
    "len(gene_info_all)"
   ]
  },
  {
   "cell_type": "code",
   "execution_count": 4,
   "metadata": {},
   "outputs": [
    {
     "ename": "NameError",
     "evalue": "name 'gene_info' is not defined",
     "output_type": "error",
     "traceback": [
      "\u001b[1;31m---------------------------------------------------------------------------\u001b[0m",
      "\u001b[1;31mNameError\u001b[0m                                 Traceback (most recent call last)",
      "\u001b[1;32m<ipython-input-4-c0d05f522940>\u001b[0m in \u001b[0;36m<module>\u001b[1;34m\u001b[0m\n\u001b[1;32m----> 1\u001b[1;33m \u001b[0mlen\u001b[0m\u001b[1;33m(\u001b[0m\u001b[0mgene_info\u001b[0m\u001b[1;33m)\u001b[0m\u001b[1;33m\u001b[0m\u001b[1;33m\u001b[0m\u001b[0m\n\u001b[0m",
      "\u001b[1;31mNameError\u001b[0m: name 'gene_info' is not defined"
     ]
    }
   ],
   "source": [
    "len(gene_info)"
   ]
  },
  {
   "cell_type": "code",
   "execution_count": 12,
   "metadata": {},
   "outputs": [],
   "source": [
    "result = mg.query(\"14-3-3 beta\")"
   ]
  },
  {
   "cell_type": "code",
   "execution_count": 13,
   "metadata": {},
   "outputs": [
    {
     "data": {
      "text/plain": [
       "{'took': 32,\n",
       " 'total': 1416,\n",
       " 'max_score': 426.8172,\n",
       " 'hits': [{'_id': '101501220',\n",
       "   '_score': 426.8172,\n",
       "   'entrezgene': '101501220',\n",
       "   'name': '14-3-3-like protein B',\n",
       "   'symbol': '14-3-3',\n",
       "   'taxid': 3827},\n",
       "  {'_id': '60681909',\n",
       "   '_score': 288.74738,\n",
       "   'entrezgene': '60681909',\n",
       "   'name': 'choline dehydrogenase',\n",
       "   'symbol': 'betA',\n",
       "   'taxid': 373},\n",
       "  {'_id': '61051597',\n",
       "   '_score': 288.74738,\n",
       "   'entrezgene': '61051597',\n",
       "   'name': 'choline dehydrogenase',\n",
       "   'symbol': 'betA',\n",
       "   'taxid': 381},\n",
       "  {'_id': '60253976',\n",
       "   '_score': 288.74738,\n",
       "   'entrezgene': '60253976',\n",
       "   'name': 'choline dehydrogenase',\n",
       "   'symbol': 'betA',\n",
       "   'taxid': 498},\n",
       "  {'_id': '45956561',\n",
       "   '_score': 288.74738,\n",
       "   'entrezgene': '45956561',\n",
       "   'name': 'choline dehydrogenase',\n",
       "   'symbol': 'betA',\n",
       "   'taxid': 396},\n",
       "  {'_id': '58138987',\n",
       "   '_score': 288.74738,\n",
       "   'entrezgene': '58138987',\n",
       "   'name': 'choline dehydrogenase',\n",
       "   'symbol': 'betA',\n",
       "   'taxid': 337},\n",
       "  {'_id': '66383652',\n",
       "   '_score': 288.74738,\n",
       "   'entrezgene': '66383652',\n",
       "   'name': 'choline dehydrogenase',\n",
       "   'symbol': 'betA',\n",
       "   'taxid': 359},\n",
       "  {'_id': '58391691',\n",
       "   '_score': 288.74738,\n",
       "   'entrezgene': '58391691',\n",
       "   'name': 'choline dehydrogenase',\n",
       "   'symbol': 'betA',\n",
       "   'taxid': 621},\n",
       "  {'_id': '64311646',\n",
       "   '_score': 288.74738,\n",
       "   'entrezgene': '64311646',\n",
       "   'name': 'choline dehydrogenase',\n",
       "   'symbol': 'betA',\n",
       "   'taxid': 471},\n",
       "  {'_id': '56666241',\n",
       "   '_score': 288.74738,\n",
       "   'entrezgene': '56666241',\n",
       "   'name': 'choline dehydrogenase',\n",
       "   'symbol': 'betA',\n",
       "   'taxid': 292}]}"
      ]
     },
     "execution_count": 13,
     "metadata": {},
     "output_type": "execute_result"
    }
   ],
   "source": [
    "result"
   ]
  },
  {
   "cell_type": "code",
   "execution_count": 41,
   "metadata": {},
   "outputs": [],
   "source": [
    "gene_info = mg.getgene(\"56666241\",field=\"pdb\")"
   ]
  },
  {
   "cell_type": "code",
   "execution_count": 42,
   "metadata": {},
   "outputs": [
    {
     "data": {
      "text/plain": [
       "{'_id': '56666241', '_version': 1}"
      ]
     },
     "execution_count": 42,
     "metadata": {},
     "output_type": "execute_result"
    }
   ],
   "source": [
    "gene_info"
   ]
  },
  {
   "cell_type": "code",
   "execution_count": null,
   "metadata": {},
   "outputs": [],
   "source": [
    "#uniprotのvalue側で検索をかけなおす"
   ]
  },
  {
   "cell_type": "code",
   "execution_count": 24,
   "metadata": {},
   "outputs": [],
   "source": [
    "n = list(gene_info[\"uniprot\"].values())[0]#列追加"
   ]
  },
  {
   "cell_type": "code",
   "execution_count": 25,
   "metadata": {},
   "outputs": [
    {
     "data": {
      "text/plain": [
       "'A0A4S5D2M8'"
      ]
     },
     "execution_count": 25,
     "metadata": {},
     "output_type": "execute_result"
    }
   ],
   "source": [
    "n"
   ]
  },
  {
   "cell_type": "code",
   "execution_count": 35,
   "metadata": {},
   "outputs": [],
   "source": [
    "gene_info_new = mg.getgene(n,field=\"pdb\")"
   ]
  },
  {
   "cell_type": "code",
   "execution_count": 30,
   "metadata": {},
   "outputs": [],
   "source": [
    "# gene_info_new_q = mg.query(n,field=\"pdb\")"
   ]
  },
  {
   "cell_type": "code",
   "execution_count": 36,
   "metadata": {},
   "outputs": [],
   "source": [
    "gene_info_new"
   ]
  },
  {
   "cell_type": "code",
   "execution_count": null,
   "metadata": {},
   "outputs": [],
   "source": []
  }
 ],
 "metadata": {
  "kernelspec": {
   "display_name": "Python 3",
   "language": "python",
   "name": "python3"
  },
  "language_info": {
   "codemirror_mode": {
    "name": "ipython",
    "version": 3
   },
   "file_extension": ".py",
   "mimetype": "text/x-python",
   "name": "python",
   "nbconvert_exporter": "python",
   "pygments_lexer": "ipython3",
   "version": "3.9.0"
  }
 },
 "nbformat": 4,
 "nbformat_minor": 4
}
