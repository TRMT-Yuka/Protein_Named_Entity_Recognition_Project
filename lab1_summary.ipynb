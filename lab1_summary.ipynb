{
 "cells": [
  {
   "cell_type": "code",
   "execution_count": 2,
   "metadata": {
    "colab": {
     "base_uri": "https://localhost:8080/"
    },
    "executionInfo": {
     "elapsed": 7710,
     "status": "ok",
     "timestamp": 1637389375650,
     "user": {
      "displayName": "Y trmt",
      "photoUrl": "https://lh3.googleusercontent.com/a-/AOh14GgDQvHXLMLM4izDdj4TwI9Yh1z_2PwieV4cnzJESA=s64",
      "userId": "18315248992010109137"
     },
     "user_tz": -540
    },
    "id": "SdrKCQ5mdrYn",
    "outputId": "b15522a9-4073-4001-9acc-cd135cc724cf"
   },
   "outputs": [],
   "source": [
    "# !pip install bioc"
   ]
  },
  {
   "cell_type": "code",
   "execution_count": 1,
   "metadata": {
    "colab": {
     "base_uri": "https://localhost:8080/"
    },
    "executionInfo": {
     "elapsed": 69708,
     "status": "ok",
     "timestamp": 1637389083710,
     "user": {
      "displayName": "Y trmt",
      "photoUrl": "https://lh3.googleusercontent.com/a-/AOh14GgDQvHXLMLM4izDdj4TwI9Yh1z_2PwieV4cnzJESA=s64",
      "userId": "18315248992010109137"
     },
     "user_tz": -540
    },
    "id": "d4jy_S20cbD3",
    "outputId": "4c2b0df8-cda7-4435-9e24-39bb076e1580"
   },
   "outputs": [
    {
     "name": "stdout",
     "output_type": "stream",
     "text": [
      "Mounted at /content/drive\n",
      "/content/drive\n",
      "/content/drive/My Drive\n",
      "/content/drive/My Drive/Colab Notebooks\n",
      "/content/drive/My Drive/Colab Notebooks/Dr.Kojima_JOB\n"
     ]
    }
   ],
   "source": [
    "# from google.colab import drive\n",
    "# drive.mount('/content/drive')\n",
    "# %cd drive\n",
    "# %cd \"My Drive\"\n",
    "# %cd \"Colab Notebooks\"\n",
    "# # /content/drive/My Drive/Colab Notebooks\n",
    "# %cd \"Dr.Kojima_JOB\""
   ]
  },
  {
   "cell_type": "markdown",
   "metadata": {
    "id": "jifdZZbcTK80"
   },
   "source": [
    "# BioCCollectionオブジェクト調査"
   ]
  },
  {
   "cell_type": "code",
   "execution_count": 38,
   "metadata": {
    "id": "2TdCYC2seR13"
   },
   "outputs": [],
   "source": [
    "import bioc\n",
    "\n",
    "# bioc.bioc.BioCCollection型\n",
    "with open(\"data_original/aimed_bioc.xml\", 'r') as fp:\n",
    "    anem_bioc = bioc.load(fp)\n",
    "\n",
    "# # bioc.biocxml.decoder.BioCXMLDocumentReader型\n",
    "# reader = bioc.BioCXMLDocumentReader(\"data/anem_bioc.xml\")\n",
    "\n",
    "# # bioc.bioc.BioCDocument型\n",
    "# for document in reader:\n",
    "#   print(document)\n",
    "#   print(type(document))"
   ]
  },
  {
   "cell_type": "code",
   "execution_count": 13,
   "metadata": {
    "colab": {
     "base_uri": "https://localhost:8080/"
    },
    "executionInfo": {
     "elapsed": 648,
     "status": "ok",
     "timestamp": 1636957686160,
     "user": {
      "displayName": "Y trmt",
      "photoUrl": "https://lh3.googleusercontent.com/a-/AOh14GgDQvHXLMLM4izDdj4TwI9Yh1z_2PwieV4cnzJESA=s64",
      "userId": "18315248992010109137"
     },
     "user_tz": -540
    },
    "id": "JRHrSQ_sRuSX",
    "outputId": "a63b1edb-a1a9-4747-fcb5-a9d444ff576d"
   },
   "outputs": [
    {
     "name": "stdout",
     "output_type": "stream",
     "text": [
      "infons : <class 'dict'>\n",
      "encoding : <class 'str'>\n",
      "version : <class 'str'>\n",
      "standalone : <class 'bool'>\n",
      "source : <class 'str'>\n",
      "date : <class 'str'>\n",
      "key : <class 'str'>\n",
      "documents : <class 'list'>\n"
     ]
    }
   ],
   "source": [
    "for key, value in anem_bioc.__dict__.items():\n",
    "    print(key, ':',type(value))\n",
    "#     print(key, ':', value,type(value))"
   ]
  },
  {
   "cell_type": "code",
   "execution_count": 14,
   "metadata": {
    "colab": {
     "base_uri": "https://localhost:8080/",
     "height": 199
    },
    "executionInfo": {
     "elapsed": 650,
     "status": "ok",
     "timestamp": 1636957101543,
     "user": {
      "displayName": "Y trmt",
      "photoUrl": "https://lh3.googleusercontent.com/a-/AOh14GgDQvHXLMLM4izDdj4TwI9Yh1z_2PwieV4cnzJESA=s64",
      "userId": "18315248992010109137"
     },
     "user_tz": -540
    },
    "id": "AWUTWX8CPtA8",
    "outputId": "806a6da3-aeff-4e99-9231-af99b0671376"
   },
   "outputs": [],
   "source": [
    "# anem_bioc.__str__()"
   ]
  },
  {
   "cell_type": "code",
   "execution_count": 15,
   "metadata": {
    "id": "qZ5G5A53SPG2"
   },
   "outputs": [],
   "source": [
    "document = anem_bioc.__dict__[\"documents\"]"
   ]
  },
  {
   "cell_type": "code",
   "execution_count": 16,
   "metadata": {
    "colab": {
     "base_uri": "https://localhost:8080/"
    },
    "executionInfo": {
     "elapsed": 310,
     "status": "ok",
     "timestamp": 1637286130118,
     "user": {
      "displayName": "Y trmt",
      "photoUrl": "https://lh3.googleusercontent.com/a-/AOh14GgDQvHXLMLM4izDdj4TwI9Yh1z_2PwieV4cnzJESA=s64",
      "userId": "18315248992010109137"
     },
     "user_tz": -540
    },
    "id": "WlNn-ruwXgoJ",
    "outputId": "349c0745-a590-4257-c1fe-a0f0cb001923"
   },
   "outputs": [
    {
     "name": "stdout",
     "output_type": "stream",
     "text": [
      "infons : <class 'dict'>\n",
      "annotations : <class 'list'>\n",
      "relations : <class 'list'>\n",
      "id : <class 'str'>\n",
      "passages : <class 'list'>\n"
     ]
    }
   ],
   "source": [
    "for key, value in document[0].__dict__.items():\n",
    "    print(key, ':',type(value))\n",
    "#     print(key, ':', value,type(value))"
   ]
  },
  {
   "cell_type": "code",
   "execution_count": 19,
   "metadata": {
    "colab": {
     "base_uri": "https://localhost:8080/"
    },
    "executionInfo": {
     "elapsed": 328,
     "status": "ok",
     "timestamp": 1636959376885,
     "user": {
      "displayName": "Y trmt",
      "photoUrl": "https://lh3.googleusercontent.com/a-/AOh14GgDQvHXLMLM4izDdj4TwI9Yh1z_2PwieV4cnzJESA=s64",
      "userId": "18315248992010109137"
     },
     "user_tz": -540
    },
    "id": "fY2MF3duYTfn",
    "outputId": "d70231ab-dc58-4fd6-cbb4-8c8e33e5fe05"
   },
   "outputs": [
    {
     "data": {
      "text/plain": [
       "bioc.bioc.BioCPassage"
      ]
     },
     "execution_count": 19,
     "metadata": {},
     "output_type": "execute_result"
    }
   ],
   "source": [
    "type(document[0].__dict__[\"passages\"][0])"
   ]
  },
  {
   "cell_type": "code",
   "execution_count": 20,
   "metadata": {
    "executionInfo": {
     "elapsed": 315,
     "status": "ok",
     "timestamp": 1637391162576,
     "user": {
      "displayName": "Y trmt",
      "photoUrl": "https://lh3.googleusercontent.com/a-/AOh14GgDQvHXLMLM4izDdj4TwI9Yh1z_2PwieV4cnzJESA=s64",
      "userId": "18315248992010109137"
     },
     "user_tz": -540
    },
    "id": "SwEh601scrlZ"
   },
   "outputs": [],
   "source": [
    "a_BioCPassage_list = document[0].__dict__[\"passages\"]"
   ]
  },
  {
   "cell_type": "code",
   "execution_count": 21,
   "metadata": {
    "colab": {
     "base_uri": "https://localhost:8080/"
    },
    "executionInfo": {
     "elapsed": 13,
     "status": "ok",
     "timestamp": 1636960523257,
     "user": {
      "displayName": "Y trmt",
      "photoUrl": "https://lh3.googleusercontent.com/a-/AOh14GgDQvHXLMLM4izDdj4TwI9Yh1z_2PwieV4cnzJESA=s64",
      "userId": "18315248992010109137"
     },
     "user_tz": -540
    },
    "id": "PzhWpFECYebK",
    "outputId": "a4f696a7-02e9-45bf-8201-36cc6f0b891d"
   },
   "outputs": [
    {
     "name": "stdout",
     "output_type": "stream",
     "text": [
      "infons : {} <class 'dict'>\n",
      "annotations : [BioCAnnotation[id=T1,text='delta-catenin',infons=[file=ann,type=protein],locations=[BioCLocation[offset=19,length=13]],], BioCAnnotation[id=T3,text='presenilin (PS) 1',infons=[file=ann,type=protein],locations=[BioCLocation[offset=122,length=17]],], BioCAnnotation[id=T2,text='presenilin 1',infons=[file=ann,type=protein],locations=[BioCLocation[offset=66,length=12]],], BioCAnnotation[id=T6,text='PS1',infons=[file=ann,type=protein],locations=[BioCLocation[offset=415,length=3]],], BioCAnnotation[id=T7,text='PS-2',infons=[file=ann,type=protein],locations=[BioCLocation[offset=441,length=4]],], BioCAnnotation[id=T4,text='delta-catenin',infons=[file=ann,type=protein],locations=[BioCLocation[offset=182,length=13]],], BioCAnnotation[id=T5,text='delta-catenin',infons=[file=ann,type=protein],locations=[BioCLocation[offset=313,length=13]],], BioCAnnotation[id=T10,text='PS1',infons=[file=ann,type=protein],locations=[BioCLocation[offset=513,length=3]],], BioCAnnotation[id=T11,text='armadillo-protein',infons=[file=ann,type=protein],locations=[BioCLocation[offset=618,length=17]],], BioCAnnotation[id=T12,text='p0071',infons=[file=ann,type=protein],locations=[BioCLocation[offset=637,length=5]],], BioCAnnotation[id=T8,text='PS1',infons=[file=ann,type=protein],locations=[BioCLocation[offset=474,length=3]],], BioCAnnotation[id=T13,text='PS1',infons=[file=ann,type=protein],locations=[BioCLocation[offset=660,length=3]],], BioCAnnotation[id=T9,text='PS2',infons=[file=ann,type=protein],locations=[BioCLocation[offset=482,length=3]],]] <class 'list'>\n",
      "relations : [BioCRelation[id=R4,infons=[relation type=Interaction,file=ann,type=Relation],nodes=[BioCNode[refid=T12,role=Arg1],BioCNode[refid=T13,role=Arg2]],], BioCRelation[id=R2,infons=[relation type=Interaction,file=ann,type=Relation],nodes=[BioCNode[refid=T3,role=Arg1],BioCNode[refid=T4,role=Arg2]],], BioCRelation[id=R3,infons=[relation type=Interaction,file=ann,type=Relation],nodes=[BioCNode[refid=T5,role=Arg1],BioCNode[refid=T6,role=Arg2]],], BioCRelation[id=R1,infons=[relation type=Interaction,file=ann,type=Relation],nodes=[BioCNode[refid=T1,role=Arg1],BioCNode[refid=T2,role=Arg2]],]] <class 'list'>\n",
      "offset : 0 <class 'int'>\n",
      "text : Isolation of human delta-catenin and its binding specificity with presenilin 1.\n",
      "We screened proteins for interaction with presenilin (PS) 1, and cloned the full-length cDNA of human delta-catenin, which encoded 1225 amino acids.\n",
      "Yeast two-hybrid assay, GST binding assay and immunoprecipitation demonstrated that delta-catenin interacted with a hydrophilic loop region in the endoproteolytic C-terminal fragment of PS1, but not with that of PS-2.\n",
      "These results suggest that PS1 and PS2 partly differ in function.\n",
      "PS1 loop fragment containing the pathogenic mutation retained the binding ability.\n",
      "We also found another armadillo-protein, p0071, interacted with PS1. <class 'str'>\n",
      "sentences : [] <class 'list'>\n"
     ]
    }
   ],
   "source": [
    "for key, value in a_BioCPassage_list[0].__dict__.items():\n",
    "  print(key, ':', value,type(value))"
   ]
  },
  {
   "cell_type": "code",
   "execution_count": 39,
   "metadata": {
    "executionInfo": {
     "elapsed": 314,
     "status": "ok",
     "timestamp": 1637391209389,
     "user": {
      "displayName": "Y trmt",
      "photoUrl": "https://lh3.googleusercontent.com/a-/AOh14GgDQvHXLMLM4izDdj4TwI9Yh1z_2PwieV4cnzJESA=s64",
      "userId": "18315248992010109137"
     },
     "user_tz": -540
    },
    "id": "UB6sbH33c2WU"
   },
   "outputs": [],
   "source": [
    "a_BioCAnnotation_list = a_BioCPassage_list[0].__dict__[\"annotations\"]\n",
    "a_BioCRelations_list = a_BioCPassage_list[0].__dict__[\"relations\"]"
   ]
  },
  {
   "cell_type": "code",
   "execution_count": 40,
   "metadata": {
    "colab": {
     "base_uri": "https://localhost:8080/"
    },
    "executionInfo": {
     "elapsed": 362,
     "status": "ok",
     "timestamp": 1637391232164,
     "user": {
      "displayName": "Y trmt",
      "photoUrl": "https://lh3.googleusercontent.com/a-/AOh14GgDQvHXLMLM4izDdj4TwI9Yh1z_2PwieV4cnzJESA=s64",
      "userId": "18315248992010109137"
     },
     "user_tz": -540
    },
    "id": "OQWhPnKBHjoC",
    "outputId": "acd1d75c-59c8-4219-845f-0d8b4dc7433f"
   },
   "outputs": [
    {
     "name": "stdout",
     "output_type": "stream",
     "text": [
      "infons : {'file': 'ann', 'type': 'protein'} <class 'dict'>\n",
      "locations : [BioCLocation[offset=19,length=13]] <class 'list'>\n",
      "id : T1 <class 'str'>\n",
      "text : delta-catenin <class 'str'>\n"
     ]
    }
   ],
   "source": [
    "for key, value in a_BioCAnnotation_list[0].__dict__.items():\n",
    "  print(key, ':', value,type(value))"
   ]
  },
  {
   "cell_type": "code",
   "execution_count": 41,
   "metadata": {
    "colab": {
     "base_uri": "https://localhost:8080/"
    },
    "executionInfo": {
     "elapsed": 9,
     "status": "ok",
     "timestamp": 1636960770026,
     "user": {
      "displayName": "Y trmt",
      "photoUrl": "https://lh3.googleusercontent.com/a-/AOh14GgDQvHXLMLM4izDdj4TwI9Yh1z_2PwieV4cnzJESA=s64",
      "userId": "18315248992010109137"
     },
     "user_tz": -540
    },
    "id": "RWQodaZTdt75",
    "outputId": "219c30f6-33d7-4319-93e9-ee27c0ac042d"
   },
   "outputs": [
    {
     "name": "stdout",
     "output_type": "stream",
     "text": [
      "infons : {'relation type': 'Interaction', 'file': 'ann', 'type': 'Relation'} <class 'dict'>\n",
      "id : R4 <class 'str'>\n",
      "nodes : [BioCNode[refid=T12,role=Arg1], BioCNode[refid=T13,role=Arg2]] <class 'list'>\n"
     ]
    }
   ],
   "source": [
    "for key, value in a_BioCRelations_list[0].__dict__.items():\n",
    "  print(key, ':', value,type(value))"
   ]
  },
  {
   "cell_type": "code",
   "execution_count": 42,
   "metadata": {},
   "outputs": [],
   "source": [
    "a_BioCRelations_Nodes = a_BioCRelations_list[0].__dict__[\"nodes\"]"
   ]
  },
  {
   "cell_type": "code",
   "execution_count": null,
   "metadata": {},
   "outputs": [],
   "source": [
    "Nodes_set = set()\n",
    "for BioCNode in a_BioCRelations_Nodes:\n",
    "    print(BioCNode.__dict__[\"refid\"])\n",
    "    Nodes_set.add(BioCNode.__dict__[\"refid\"])\n",
    "    \n",
    "Nodes_set"
   ]
  },
  {
   "cell_type": "markdown",
   "metadata": {
    "id": "jifdZZbcTK80"
   },
   "source": [
    "# データ作成"
   ]
  },
  {
   "cell_type": "code",
   "execution_count": 6,
   "metadata": {},
   "outputs": [],
   "source": [
    "import os\n",
    "import bioc\n",
    "import itertools\n",
    "import csv"
   ]
  },
  {
   "cell_type": "code",
   "execution_count": 4,
   "metadata": {
    "executionInfo": {
     "elapsed": 667,
     "status": "ok",
     "timestamp": 1637395039114,
     "user": {
      "displayName": "Y trmt",
      "photoUrl": "https://lh3.googleusercontent.com/a-/AOh14GgDQvHXLMLM4izDdj4TwI9Yh1z_2PwieV4cnzJESA=s64",
      "userId": "18315248992010109137"
     },
     "user_tz": -540
    },
    "id": "bO9D1qXlA7XW"
   },
   "outputs": [],
   "source": [
    "def get_PairData(filename):\n",
    "    # bioc.biocxml.decoder.BioCXMLDocumentReader型\n",
    "    all_data = []\n",
    "    reader = bioc.BioCXMLDocumentReader(\"data_original/\"+filename+\".xml\")\n",
    "\n",
    "    # bioc.bioc.BioCDocument型\n",
    "    for document in reader:\n",
    "        document_id = document.__dict__[\"id\"]\n",
    "\n",
    "        for passage in document.__dict__[\"passages\"]:\n",
    "            text = passage.__dict__[\"text\"]\n",
    "\n",
    "            ann_ids_texts = []\n",
    "            for annotation in passage.__dict__[\"annotations\"]:\n",
    "                ann_id = annotation.__dict__[\"id\"]\n",
    "                ann_text = annotation.__dict__[\"text\"]\n",
    "                ann_ids_texts.append([ann_id,ann_text])\n",
    "\n",
    "            for pair in itertools.combinations(ann_ids_texts, 2):\n",
    "                a,b = list(pair)\n",
    "\n",
    "                row = [document_id,text,a[0],b[0],a[1],b[1],set([a[0],b[0]])]\n",
    "                all_data.append(row)\n",
    "                \n",
    "    return all_data"
   ]
  },
  {
   "cell_type": "code",
   "execution_count": 5,
   "metadata": {},
   "outputs": [],
   "source": [
    "def get_RelDataDict(filename):\n",
    "    # bioc.biocxml.decoder.BioCXMLDocumentReader型\n",
    "    all_rel_data_dict = dict()\n",
    "    reader = bioc.BioCXMLDocumentReader(\"data_original/\"+filename+\".xml\")\n",
    "    \n",
    "    for document in reader:\n",
    "        document_id = document.__dict__[\"id\"]\n",
    "        document_rels = []\n",
    "\n",
    "        for passage in document.__dict__[\"passages\"]:\n",
    "\n",
    "            for relations in passage.__dict__[\"relations\"]:\n",
    "                a_node = set()\n",
    "                for nodes in relations.__dict__[\"nodes\"]:\n",
    "                    a_node.add(nodes.__dict__[\"refid\"])\n",
    "                document_rels.append(a_node)\n",
    "\n",
    "        all_rel_data_dict[document_id] = document_rels\n",
    "    return all_rel_data_dict"
   ]
  },
  {
   "cell_type": "code",
   "execution_count": 6,
   "metadata": {
    "id": "WK80wRhkYTsC"
   },
   "outputs": [],
   "source": [
    "def Create_CSV(filename):\n",
    "    PairData = get_PairData(filename)\n",
    "    RelDataDict = get_RelDataDict(filename)\n",
    "    \n",
    "    newPairData = []\n",
    "    for pair in PairData:\n",
    "        TorF = \"FALSE\"\n",
    "        if pair[-1] in RelDataDict[pair[0]]:\n",
    "            TorF = \"TRUE\"\n",
    "        newPairData.append(pair[:-1]+[TorF])\n",
    "        \n",
    "    with open(\"data/\"+filename+\".csv\", \"w\") as f:\n",
    "        writer = csv.writer(f, lineterminator='\\n')\n",
    "        writer.writerows(newPairData)"
   ]
  },
  {
   "cell_type": "code",
   "execution_count": 7,
   "metadata": {
    "id": "iA_57GoDgtck"
   },
   "outputs": [
    {
     "name": "stdout",
     "output_type": "stream",
     "text": [
      "aimed_bioc.xml\n",
      "bioinfer_bioc.xml\n",
      "hprd50_bioc.xml\n",
      "iepa_bioc.xml\n",
      "lll_bioc.xml\n"
     ]
    }
   ],
   "source": [
    "files = os.listdir(\"data_original\")\n",
    "\n",
    "val_name = []\n",
    "for a_file in files:\n",
    "  print(a_file)\n",
    "  with open(\"data_original/\"+a_file, 'r') as fp:\n",
    "    dynmc_name = a_file.replace(\".xml\",\"\")\n",
    "    locals()[dynmc_name] = bioc.load(fp)\n",
    "    val_name.append(dynmc_name)"
   ]
  },
  {
   "cell_type": "code",
   "execution_count": 6,
   "metadata": {},
   "outputs": [
    {
     "name": "stdout",
     "output_type": "stream",
     "text": [
      "aimed_bioc\n",
      "bioinfer_bioc\n",
      "hprd50_bioc\n",
      "iepa_bioc\n",
      "lll_bioc\n"
     ]
    }
   ],
   "source": [
    "for filename in val_name:\n",
    "    print(filename)\n",
    "    Create_CSV(filename)"
   ]
  },
  {
   "cell_type": "markdown",
   "metadata": {},
   "source": [
    "# データ概要の集計"
   ]
  },
  {
   "cell_type": "code",
   "execution_count": 9,
   "metadata": {},
   "outputs": [],
   "source": [
    "import collections\n",
    "import os\n",
    "import bioc\n",
    "import csv"
   ]
  },
  {
   "cell_type": "code",
   "execution_count": 15,
   "metadata": {},
   "outputs": [],
   "source": [
    "def get_Summary(filename):\n",
    "    with open('data/'+filename+'.csv') as rf:\n",
    "        reader = csv.reader(rf)\n",
    "        data = [row for row in reader]\n",
    "    \n",
    "    #ラベルごとの辞書作成\n",
    "    label_dict = dict()\n",
    "    key_l = [row[2] for row in data]+[row[3] for row in data]\n",
    "    ent_1 = [row[4] for row in data]+[row[5] for row in data]\n",
    "    \n",
    "    for key in set(key_l):\n",
    "        label_dict[key] = set()\n",
    "\n",
    "    for i in range(len(key_l)):\n",
    "        key = key_l[i]\n",
    "        ent = ent_1[i]\n",
    "        label_dict[key].add(ent)\n",
    "    \n",
    "    #TorFの件数と比率\n",
    "    t = len([row[-1] for row in data if row[-1] == \"TRUE\"])\n",
    "    f = len(data)-t\n",
    "    t_percent = t/len(data)*100\n",
    "    f_percent = f/len(data)*100\n",
    "    \n",
    "    wf = open('data_summary/'+filename+'T_F.txt','w',encoding='UTF-8',newline='\\n')\n",
    "    wf.write(\"【Ratio of T to F】\\n\")\n",
    "    wf.write(\"TRUE:FALES = \"+str(t)+\" : \"+str(f)+\"\\n\")\n",
    "    wf.write(str(t_percent)+\"% : \"+str(f_percent)+\"%\\n\")\n",
    "    wf.write(\"\\n\")\n",
    "    wf.write(\"\\n\")\n",
    "    wf.write(\"【Proteins for each label】\\n\")\n",
    "    for key,value in label_dict.items():\n",
    "        wf.write(str(key)+\":\"+str(value)+\"\\n\")\n",
    "    wf.close()"
   ]
  },
  {
   "cell_type": "code",
   "execution_count": 25,
   "metadata": {},
   "outputs": [],
   "source": [
    "def get_TF_Summary(filename):\n",
    "    with open('data/'+filename+'.csv') as rf:\n",
    "        reader = csv.reader(rf)\n",
    "        data = [row for row in reader]\n",
    "    \n",
    "    #TorFの件数と比率\n",
    "    t = len([row[-1] for row in data if row[-1] == \"TRUE\"])\n",
    "    f = len(data)-t\n",
    "    t_percent = t/len(data)*100\n",
    "    f_percent = f/len(data)*100\n",
    "    \n",
    "    wf = open('data_summary/TF/'+filename+'_TF.txt','w',encoding='UTF-8',newline='\\n')\n",
    "    wf.write(\"【Ratio of T to F】\\n\")\n",
    "    wf.write(\"TRUE:FALES = \"+str(t)+\" : \"+str(f)+\"\\n\")\n",
    "    wf.write(str(t_percent)+\"% : \"+str(f_percent)+\"%\\n\")\n",
    "    wf.close()"
   ]
  },
  {
   "cell_type": "code",
   "execution_count": 26,
   "metadata": {},
   "outputs": [],
   "source": [
    "def get_Prot_Summary(filename):\n",
    "    with open('data/'+filename+'.csv') as rf:\n",
    "        reader = csv.reader(rf)\n",
    "        data = [row for row in reader]\n",
    "    \n",
    "    #プロテイン名ごとの辞書作成\n",
    "    prot_1 = [row[4] for row in data]+[row[5] for row in data]\n",
    "    prot_set = sorted(list(set(prot_1)))\n",
    "    prot_dict = collections.Counter(prot_1)\n",
    "        \n",
    "    with open('data_summary/PROT/'+filename+'_prot.csv','w',encoding='UTF-8',newline='\\n') as f:\n",
    "        writer = csv.writer(f)\n",
    "        for prot in prot_set:\n",
    "            writer.writerow([prot,prot_dict[prot]])"
   ]
  },
  {
   "cell_type": "code",
   "execution_count": 27,
   "metadata": {},
   "outputs": [],
   "source": [
    "files = os.listdir(\"data_original\")\n",
    "\n",
    "val_name = []\n",
    "for a_file in files:\n",
    "    with open(\"data_original/\"+a_file, 'r') as fp:\n",
    "        dynmc_name = a_file.replace(\".xml\",\"\")\n",
    "        locals()[dynmc_name] = bioc.load(fp)\n",
    "        val_name.append(dynmc_name)"
   ]
  },
  {
   "cell_type": "code",
   "execution_count": 28,
   "metadata": {},
   "outputs": [
    {
     "name": "stdout",
     "output_type": "stream",
     "text": [
      "aimed_bioc\n",
      "bioinfer_bioc\n",
      "hprd50_bioc\n",
      "iepa_bioc\n",
      "lll_bioc\n"
     ]
    }
   ],
   "source": [
    "for filename in val_name:\n",
    "    print(filename)\n",
    "    get_TF_Summary(filename)"
   ]
  },
  {
   "cell_type": "code",
   "execution_count": 29,
   "metadata": {},
   "outputs": [
    {
     "name": "stdout",
     "output_type": "stream",
     "text": [
      "aimed_bioc\n",
      "bioinfer_bioc\n",
      "hprd50_bioc\n",
      "iepa_bioc\n",
      "lll_bioc\n"
     ]
    }
   ],
   "source": [
    "for filename in val_name:\n",
    "    print(filename)\n",
    "    get_Prot_Summary(filename)"
   ]
  },
  {
   "cell_type": "code",
   "execution_count": null,
   "metadata": {},
   "outputs": [],
   "source": []
  }
 ],
 "metadata": {
  "colab": {
   "authorship_tag": "ABX9TyMJi7e4Uz1bLMDtV4lPFUbM",
   "name": "Medical_NER.ipynb",
   "provenance": []
  },
  "kernelspec": {
   "display_name": "Python 3",
   "language": "python",
   "name": "python3"
  },
  "language_info": {
   "codemirror_mode": {
    "name": "ipython",
    "version": 3
   },
   "file_extension": ".py",
   "mimetype": "text/x-python",
   "name": "python",
   "nbconvert_exporter": "python",
   "pygments_lexer": "ipython3",
   "version": "3.9.0"
  }
 },
 "nbformat": 4,
 "nbformat_minor": 4
}
