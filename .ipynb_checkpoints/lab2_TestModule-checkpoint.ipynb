{
 "cells": [
  {
   "cell_type": "code",
   "execution_count": 1,
   "metadata": {},
   "outputs": [
    {
     "name": "stderr",
     "output_type": "stream",
     "text": [
      "WARNING: You are using pip version 20.2.4; however, version 21.3.1 is available.\n",
      "You should consider upgrading via the 'c:\\users\\teramoto\\appdata\\local\\programs\\python\\python39\\python.exe -m pip install --upgrade pip' command.\n"
     ]
    },
    {
     "name": "stdout",
     "output_type": "stream",
     "text": [
      "Collecting mygene\n",
      "  Downloading mygene-3.2.2-py2.py3-none-any.whl (5.4 kB)\n",
      "Collecting biothings-client>=0.2.6\n",
      "  Downloading biothings_client-0.2.6-py2.py3-none-any.whl (37 kB)\n",
      "Requirement already satisfied: requests>=2.3.0 in c:\\users\\teramoto\\appdata\\local\\programs\\python\\python39\\lib\\site-packages (from biothings-client>=0.2.6->mygene) (2.25.0)\n",
      "Requirement already satisfied: urllib3<1.27,>=1.21.1 in c:\\users\\teramoto\\appdata\\local\\programs\\python\\python39\\lib\\site-packages (from requests>=2.3.0->biothings-client>=0.2.6->mygene) (1.26.2)\n",
      "Requirement already satisfied: idna<3,>=2.5 in c:\\users\\teramoto\\appdata\\local\\programs\\python\\python39\\lib\\site-packages (from requests>=2.3.0->biothings-client>=0.2.6->mygene) (2.10)\n",
      "Requirement already satisfied: certifi>=2017.4.17 in c:\\users\\teramoto\\appdata\\local\\programs\\python\\python39\\lib\\site-packages (from requests>=2.3.0->biothings-client>=0.2.6->mygene) (2020.11.8)\n",
      "Requirement already satisfied: chardet<4,>=3.0.2 in c:\\users\\teramoto\\appdata\\local\\programs\\python\\python39\\lib\\site-packages (from requests>=2.3.0->biothings-client>=0.2.6->mygene) (3.0.4)\n",
      "Installing collected packages: biothings-client, mygene\n",
      "Successfully installed biothings-client-0.2.6 mygene-3.2.2\n"
     ]
    }
   ],
   "source": [
    "# ! pip install mygene"
   ]
  },
  {
   "cell_type": "code",
   "execution_count": 33,
   "metadata": {},
   "outputs": [
    {
     "name": "stdout",
     "output_type": "stream",
     "text": [
      "querying 1-1...done.\n"
     ]
    },
    {
     "data": {
      "text/plain": [
       "[{'query': 'CBX8', 'notfound': True}]"
      ]
     },
     "execution_count": 33,
     "metadata": {},
     "output_type": "execute_result"
    }
   ],
   "source": [
    "import mygene\n",
    "mg = mygene.MyGeneInfo()\n",
    "ens =list(['CBX8'])\n",
    "# gene_info=mg.getgenes(ens,\"name,symbol,refseq\")\n",
    "gene_info=mg.getgenes(ens,\"symbol\")\n",
    "gene_info"
   ]
  },
  {
   "cell_type": "code",
   "execution_count": 73,
   "metadata": {},
   "outputs": [
    {
     "data": {
      "text/plain": [
       "{}"
      ]
     },
     "execution_count": 73,
     "metadata": {},
     "output_type": "execute_result"
    }
   ],
   "source": [
    "mg = mygene.MyGeneInfo()\n",
    "# gene_info = mg.getgenes('CBX8', fields='all')\n",
    "gene_info = mg.get_fields('CBX8')"
   ]
  },
  {
   "cell_type": "code",
   "execution_count": 74,
   "metadata": {},
   "outputs": [
    {
     "data": {
      "text/plain": [
       "dict"
      ]
     },
     "execution_count": 74,
     "metadata": {},
     "output_type": "execute_result"
    }
   ],
   "source": [
    "type(gene_info)"
   ]
  },
  {
   "cell_type": "code",
   "execution_count": 70,
   "metadata": {},
   "outputs": [
    {
     "data": {
      "text/plain": [
       "{}"
      ]
     },
     "execution_count": 70,
     "metadata": {},
     "output_type": "execute_result"
    }
   ],
   "source": [
    "gene_info"
   ]
  },
  {
   "cell_type": "code",
   "execution_count": 35,
   "metadata": {},
   "outputs": [
    {
     "name": "stdout",
     "output_type": "stream",
     "text": [
      "querying 1-1...done.\n"
     ]
    }
   ],
   "source": [
    "import mygene\n",
    "mg = mygene.MyGeneInfo()\n",
    "ens =list(['ENSG00000141570'])\n",
    "gene_info=mg.getgenes(ens)\n",
    "# gene_info"
   ]
  },
  {
   "cell_type": "code",
   "execution_count": 38,
   "metadata": {},
   "outputs": [
    {
     "data": {
      "text/plain": [
       "1"
      ]
     },
     "execution_count": 38,
     "metadata": {},
     "output_type": "execute_result"
    }
   ],
   "source": [
    "len(gene_info)"
   ]
  },
  {
   "cell_type": "code",
   "execution_count": 37,
   "metadata": {},
   "outputs": [
    {
     "data": {
      "text/plain": [
       "dict"
      ]
     },
     "execution_count": 37,
     "metadata": {},
     "output_type": "execute_result"
    }
   ],
   "source": [
    "type(gene_info[0])"
   ]
  },
  {
   "cell_type": "code",
   "execution_count": 31,
   "metadata": {},
   "outputs": [
    {
     "name": "stdout",
     "output_type": "stream",
     "text": [
      "query : <class 'str'>\n",
      "HGNC : <class 'str'>\n",
      "MIM : <class 'str'>\n",
      "_id : <class 'str'>\n",
      "_version : <class 'int'>\n",
      "accession : <class 'dict'>\n",
      "alias : <class 'list'>\n",
      "ensembl : <class 'dict'>\n",
      "entrezgene : <class 'str'>\n",
      "exac : <class 'dict'>\n",
      "exons : <class 'list'>\n",
      "exons_hg19 : <class 'list'>\n",
      "generif : <class 'list'>\n",
      "genomic_pos : <class 'dict'>\n",
      "genomic_pos_hg19 : <class 'list'>\n",
      "go : <class 'dict'>\n",
      "homologene : <class 'dict'>\n",
      "interpro : <class 'list'>\n",
      "ipi : <class 'list'>\n",
      "map_location : <class 'str'>\n",
      "name : <class 'str'>\n",
      "other_names : <class 'list'>\n",
      "pantherdb : <class 'dict'>\n",
      "pathway : <class 'dict'>\n",
      "pdb : <class 'list'>\n",
      "pfam : <class 'list'>\n",
      "pharmgkb : <class 'str'>\n",
      "pharos : <class 'dict'>\n",
      "prosite : <class 'str'>\n",
      "reagent : <class 'dict'>\n",
      "refseq : <class 'dict'>\n",
      "reporter : <class 'dict'>\n",
      "retired : <class 'list'>\n",
      "symbol : <class 'str'>\n",
      "taxid : <class 'int'>\n",
      "type_of_gene : <class 'str'>\n",
      "umls : <class 'dict'>\n",
      "unigene : <class 'str'>\n",
      "uniprot : <class 'dict'>\n",
      "wikipedia : <class 'dict'>\n"
     ]
    }
   ],
   "source": [
    "for key,value in gene_info[0].items():\n",
    "    print(key, ':',type(value))"
   ]
  },
  {
   "cell_type": "code",
   "execution_count": 41,
   "metadata": {},
   "outputs": [
    {
     "data": {
      "text/plain": [
       "{'gene': 'ENSG00000141570',\n",
       " 'protein': ['ENSP00000269385', 'ENSP00000405058', 'ENSP00000408753'],\n",
       " 'transcript': ['ENST00000269385',\n",
       "  'ENST00000413392',\n",
       "  'ENST00000427800',\n",
       "  'ENST00000485449'],\n",
       " 'translation': [{'protein': 'ENSP00000269385', 'rna': 'ENST00000269385'},\n",
       "  {'protein': 'ENSP00000405058', 'rna': 'ENST00000413392'},\n",
       "  {'protein': 'ENSP00000408753', 'rna': 'ENST00000427800'}],\n",
       " 'type_of_gene': 'protein_coding'}"
      ]
     },
     "execution_count": 41,
     "metadata": {},
     "output_type": "execute_result"
    }
   ],
   "source": [
    "gene_info[0][\"ensembl\"]"
   ]
  },
  {
   "cell_type": "code",
   "execution_count": 42,
   "metadata": {},
   "outputs": [
    {
     "data": {
      "text/plain": [
       "'CBX8'"
      ]
     },
     "execution_count": 42,
     "metadata": {},
     "output_type": "execute_result"
    }
   ],
   "source": [
    "gene_info[0][\"symbol\"]"
   ]
  },
  {
   "cell_type": "code",
   "execution_count": 7,
   "metadata": {},
   "outputs": [],
   "source": [
    "# ID抽出（本当は遺伝子とタンパクは一対一ではないので３つ全部やった方がいいかもしれないが最初のタンパクだけをとりあえず採用）\n",
    "protein_id=gene_info[0][\"ensembl\"][\"protein\"][0]\n",
    "gene_id=\"ENSG00000141570\""
   ]
  },
  {
   "cell_type": "code",
   "execution_count": 9,
   "metadata": {},
   "outputs": [
    {
     "name": "stdout",
     "output_type": "stream",
     "text": [
      "AGTGCTTCTCTAACAAGGAGGATGTGTGGATGTCTCCTAGGGAGGAGAAAGTGGGACAGGAAAGGTGGGAGCTTCTTGCTCTTGGGAACAACTAGCGGCGG\n"
     ]
    }
   ],
   "source": [
    "#遺伝子配列\n",
    "import requests, sys\n",
    " \n",
    "server = \"https://rest.ensembl.org\"\n",
    "ext = \"/sequence/id/\"+gene_id+\"?\"\n",
    " \n",
    "r = requests.get(server+ext, headers={ \"Content-Type\" : \"text/plain\"})\n",
    " \n",
    "if not r.ok:\n",
    "  r.raise_for_status()\n",
    "  sys.exit()\n",
    " \n",
    " \n",
    "print(r.text[0:101])"
   ]
  },
  {
   "cell_type": "code",
   "execution_count": 10,
   "metadata": {},
   "outputs": [
    {
     "name": "stdout",
     "output_type": "stream",
     "text": [
      "MELSAVGERVFAAEALLKRRIRKGRMEYLVKWKGWSQKYSTWEPEENILDARLLAAFEEREREMELYGPKKRGPKPKTFLLKAQAKAKAKTYEFRSDSARGIRIPYPGRSPQDLASTSRAREGLRNMGLSPPASSTSTSSTCRAEAPRDRDRDRDRDRERDRERERERERERERERERERGTSRVDDKPSSPGDSSKKRGPKPRKELPDPSQRPLGEPSAGLGEYLKGRKLDDTPSGAGKFPAGHSVIQLARRQDSDLVQCGVTSPSSAEATGKLAVDTFPARVIKHRAAFLEAKGQGALDPNGTRVRHGSGPPSSGGGLYRDMGAQGGRPSLIARIPVARILGDPEEESWSPSLTNLEKVVVTDVTSNFLTVTIKESNTDQGFFKEKR\n"
     ]
    }
   ],
   "source": [
    "# アミノ酸配列\n",
    "import requests, sys\n",
    " \n",
    "server = \"https://rest.ensembl.org\"\n",
    "ext = \"/sequence/id/\"+protein_id+\"?\"\n",
    " \n",
    "r = requests.get(server+ext, headers={ \"Content-Type\" : \"text/plain\"})\n",
    " \n",
    "if not r.ok:\n",
    "  r.raise_for_status()\n",
    "  sys.exit()\n",
    " \n",
    " \n",
    "print(r.text)"
   ]
  },
  {
   "cell_type": "code",
   "execution_count": null,
   "metadata": {},
   "outputs": [],
   "source": []
  }
 ],
 "metadata": {
  "kernelspec": {
   "display_name": "Python 3",
   "language": "python",
   "name": "python3"
  },
  "language_info": {
   "codemirror_mode": {
    "name": "ipython",
    "version": 3
   },
   "file_extension": ".py",
   "mimetype": "text/x-python",
   "name": "python",
   "nbconvert_exporter": "python",
   "pygments_lexer": "ipython3",
   "version": "3.9.0"
  }
 },
 "nbformat": 4,
 "nbformat_minor": 4
}
