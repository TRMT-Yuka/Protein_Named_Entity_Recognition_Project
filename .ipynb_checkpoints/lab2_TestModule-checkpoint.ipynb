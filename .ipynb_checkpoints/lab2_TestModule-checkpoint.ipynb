{
 "cells": [
  {
   "cell_type": "code",
   "execution_count": 1,
   "metadata": {},
   "outputs": [],
   "source": [
    "# !pip install mygene\n",
    "# !pip install biothings_client"
   ]
  },
  {
   "cell_type": "code",
   "execution_count": 5,
   "metadata": {},
   "outputs": [],
   "source": [
    "from biothings_client import get_client\n",
    "mg = get_client(\"gene\")"
   ]
  },
  {
   "cell_type": "code",
   "execution_count": 23,
   "metadata": {},
   "outputs": [],
   "source": [
    "# キーワードの検索結果件数と一覧\n",
    "\n",
    "# mg.query(keyword)\n",
    "\n",
    "# {'took': 12,\n",
    "#  'total': 2307,\n",
    "#  'max_score': 394.02466,\n",
    "#  'hits': [{'_id': '10845',\n",
    "#    '_score': 394.02466,\n",
    "#    'entrezgene': '10845',\n",
    "#    'name': 'caseinolytic mitochondrial matrix peptidase chaperone subunit X',\n",
    "#    'symbol': 'CLPX',\n",
    "#    'taxid': 9606},\n",
    "#   {'_id': '270166',....."
   ]
  },
  {
   "cell_type": "markdown",
   "metadata": {},
   "source": [
    "# gene_infoの各項目"
   ]
  },
  {
   "cell_type": "code",
   "execution_count": 25,
   "metadata": {},
   "outputs": [],
   "source": [
    "gene_info = mg.getgene(\"ENSG00000141570\")"
   ]
  },
  {
   "cell_type": "code",
   "execution_count": 9,
   "metadata": {
    "scrolled": true
   },
   "outputs": [
    {
     "name": "stdout",
     "output_type": "stream",
     "text": [
      "HGNC : <class 'str'>\n",
      "MIM : <class 'str'>\n",
      "_id : <class 'str'>\n",
      "_version : <class 'int'>\n",
      "accession : <class 'dict'>\n",
      "alias : <class 'list'>\n",
      "ensembl : <class 'dict'>\n",
      "entrezgene : <class 'str'>\n",
      "exac : <class 'dict'>\n",
      "exons : <class 'list'>\n",
      "exons_hg19 : <class 'list'>\n",
      "generif : <class 'list'>\n",
      "genomic_pos : <class 'dict'>\n",
      "genomic_pos_hg19 : <class 'list'>\n",
      "go : <class 'dict'>\n",
      "homologene : <class 'dict'>\n",
      "interpro : <class 'list'>\n",
      "ipi : <class 'list'>\n",
      "map_location : <class 'str'>\n",
      "name : <class 'str'>\n",
      "other_names : <class 'list'>\n",
      "pantherdb : <class 'dict'>\n",
      "pathway : <class 'dict'>\n",
      "pdb : <class 'list'>\n",
      "pfam : <class 'list'>\n",
      "pharmgkb : <class 'str'>\n",
      "pharos : <class 'dict'>\n",
      "prosite : <class 'str'>\n",
      "reagent : <class 'dict'>\n",
      "refseq : <class 'dict'>\n",
      "reporter : <class 'dict'>\n",
      "retired : <class 'list'>\n",
      "symbol : <class 'str'>\n",
      "taxid : <class 'int'>\n",
      "type_of_gene : <class 'str'>\n",
      "umls : <class 'dict'>\n",
      "unigene : <class 'str'>\n",
      "uniprot : <class 'dict'>\n",
      "wikipedia : <class 'dict'>\n"
     ]
    }
   ],
   "source": [
    "for key,value in gene_info.items():\n",
    "    print(key,\":\",type(value))"
   ]
  },
  {
   "cell_type": "code",
   "execution_count": 30,
   "metadata": {},
   "outputs": [
    {
     "data": {
      "text/plain": [
       "['2N4Q', '3I91', '5EQ0']"
      ]
     },
     "execution_count": 30,
     "metadata": {},
     "output_type": "execute_result"
    }
   ],
   "source": [
    "gene_info[\"ensembl\"]\n",
    "# {'gene': 'ENSG00000141570',\n",
    "#  'protein': ['ENSP00000269385', 'ENSP00000405058', 'ENSP00000408753'],\n",
    "#  'transcript': ['ENST00000269385',....],\n",
    "#  'translation': [{'protein': 'ENSP00000269385', 'rna': 'ENST00000269385'},....],\n",
    "#  'type_of_gene': 'protein_coding'}\n",
    "gene_info[\"ensembl\"][\"gene\"]\n",
    "# 遺伝子に関する情報\n",
    "gene_info[\"ensembl\"][\"protein\"]\n",
    "# 生成されるタンパク質種類\n",
    "\n",
    "gene_info[\"entrezgene\"]\n",
    "#人間とか犬とか生物のカテゴリを表すID\n",
    "\n",
    "gene_info[\"pdb\"]\n",
    "#PDB IDは重複しない４文字のコードで、タンパク質\n",
    "#データバンクの各エントリーに割り振られます。\n",
    "#最初の文字は必ず1から9までの数字で、残りの３文字は\n",
    "#アルファベットまたは数字が使われます。\n",
    "\n",
    "gene_info[\"generif\"]\n",
    "# 文献と出現テキストのリスト\n",
    "# [{'pubmed': 17332741,'text': 'CBX8 is an essenti...'}]\n",
    "\n",
    "gene_info[\"name\"]\n",
    "#正式名称\n",
    "\n",
    "gene_info[\"other_names\"]\n",
    "# 正式名称表記ゆれ\n",
    "\n",
    "gene_info[\"pdb\"]\n",
    "#タンパク質固有ID\n",
    "# ['2N4Q', '3I91', '5EQ0']"
   ]
  },
  {
   "cell_type": "markdown",
   "metadata": {},
   "source": [
    "# データの読み込み"
   ]
  },
  {
   "cell_type": "code",
   "execution_count": 1,
   "metadata": {},
   "outputs": [],
   "source": [
    "import pandas as pd\n",
    "data = pd.read_csv('data_summary/PROT/lll_bioc_prot.csv').values.tolist()"
   ]
  },
  {
   "cell_type": "code",
   "execution_count": null,
   "metadata": {},
   "outputs": [],
   "source": [
    "label = [\"protein\",\"appearances\",\"search_results\"]"
   ]
  },
  {
   "cell_type": "code",
   "execution_count": 3,
   "metadata": {},
   "outputs": [
    {
     "data": {
      "text/plain": [
       "[['ClpX', 6],\n",
       " ['ComK', 10],\n",
       " ['CsbB', 2],\n",
       " ['CtsR', 6],\n",
       " ['DnaK', 8],\n",
       " ['E sigma E', 6],\n",
       " ['EsigmaF', 8],\n",
       " ['FlgM', 13],\n",
       " ['FtsZ', 25],\n",
       " ['GerE', 210]]"
      ]
     },
     "execution_count": 3,
     "metadata": {},
     "output_type": "execute_result"
    }
   ],
   "source": [
    "data[0:10]"
   ]
  },
  {
   "cell_type": "code",
   "execution_count": 26,
   "metadata": {},
   "outputs": [],
   "source": [
    "keyword = \"momo\""
   ]
  },
  {
   "cell_type": "code",
   "execution_count": 27,
   "metadata": {},
   "outputs": [
    {
     "data": {
      "text/plain": [
       "{'took': 5,\n",
       " 'total': 4,\n",
       " 'max_score': 13.657011,\n",
       " 'hits': [{'_id': '114907846',\n",
       "   '_score': 13.657011,\n",
       "   'entrezgene': '114907846',\n",
       "   'name': 'DLA class II histocompatibility antigen, DR-1 beta chain-like',\n",
       "   'symbol': 'LOC114907846',\n",
       "   'taxid': 40151},\n",
       "  {'_id': '30170',\n",
       "   '_score': 5.9296494,\n",
       "   'entrezgene': '30170',\n",
       "   'name': 'dharma',\n",
       "   'symbol': 'dharma',\n",
       "   'taxid': 7955},\n",
       "  {'_id': '282845',\n",
       "   '_score': 4.838886,\n",
       "   'entrezgene': '282845',\n",
       "   'name': 'ring finger protein 34',\n",
       "   'symbol': 'Rnf34',\n",
       "   'taxid': 10116},\n",
       "  {'_id': '80196',\n",
       "   '_score': 2.1278205,\n",
       "   'entrezgene': '80196',\n",
       "   'name': 'ring finger protein 34',\n",
       "   'symbol': 'RNF34',\n",
       "   'taxid': 9606}]}"
      ]
     },
     "execution_count": 27,
     "metadata": {},
     "output_type": "execute_result"
    }
   ],
   "source": [
    "mg.query(keyword)[\"total\"]"
   ]
  },
  {
   "cell_type": "code",
   "execution_count": 32,
   "metadata": {},
   "outputs": [],
   "source": [
    "import copy\n",
    "new_data = copy.deepcopy(data)"
   ]
  },
  {
   "cell_type": "code",
   "execution_count": 34,
   "metadata": {},
   "outputs": [
    {
     "data": {
      "text/plain": [
       "[['ClpX', 6, 2319],\n",
       " ['ComK', 10, 166],\n",
       " ['CsbB', 2, 4],\n",
       " ['CtsR', 6, 226],\n",
       " ['DnaK', 8, 2136],\n",
       " ['E sigma E', 6, 1007],\n",
       " ['EsigmaF', 8, 0],\n",
       " ['FlgM', 13, 514],\n",
       " ['FtsZ', 25, 2955],\n",
       " ['GerE', 210, 28],\n",
       " ['KatX', 8, 8],\n",
       " ['KinC', 2, 4],\n",
       " ['KinD', 2, 212],\n",
       " ['PBP4*', 7, 88],\n",
       " ['PhoP~P', 3]]"
      ]
     },
     "execution_count": 34,
     "metadata": {},
     "output_type": "execute_result"
    }
   ],
   "source": [
    "new_data[0:15]"
   ]
  },
  {
   "cell_type": "code",
   "execution_count": 33,
   "metadata": {},
   "outputs": [
    {
     "name": "stdout",
     "output_type": "stream",
     "text": [
      "0 / 121\n",
      "1 / 121\n",
      "2 / 121\n",
      "3 / 121\n",
      "4 / 121\n",
      "5 / 121\n",
      "6 / 121\n",
      "7 / 121\n",
      "8 / 121\n",
      "9 / 121\n",
      "10 / 121\n",
      "11 / 121\n",
      "12 / 121\n",
      "13 / 121\n",
      "14 / 121\n"
     ]
    },
    {
     "ename": "HTTPError",
     "evalue": "400 Client Error: search_phase_execution_exception for url: http://mygene.info/v3/query/?q=PhoP~P",
     "output_type": "error",
     "traceback": [
      "\u001b[1;31m---------------------------------------------------------------------------\u001b[0m",
      "\u001b[1;31mHTTPError\u001b[0m                                 Traceback (most recent call last)",
      "\u001b[1;32m<ipython-input-33-c5c6efd8d3fe>\u001b[0m in \u001b[0;36m<module>\u001b[1;34m\u001b[0m\n\u001b[0;32m      2\u001b[0m     \u001b[0mprint\u001b[0m\u001b[1;33m(\u001b[0m\u001b[0mi\u001b[0m\u001b[1;33m,\u001b[0m\u001b[1;34m\"/\"\u001b[0m\u001b[1;33m,\u001b[0m\u001b[0mlen\u001b[0m\u001b[1;33m(\u001b[0m\u001b[0mnew_data\u001b[0m\u001b[1;33m)\u001b[0m\u001b[1;33m)\u001b[0m\u001b[1;33m\u001b[0m\u001b[1;33m\u001b[0m\u001b[0m\n\u001b[0;32m      3\u001b[0m     \u001b[0mkeyword\u001b[0m \u001b[1;33m=\u001b[0m \u001b[0mnew_data\u001b[0m\u001b[1;33m[\u001b[0m\u001b[0mi\u001b[0m\u001b[1;33m]\u001b[0m\u001b[1;33m[\u001b[0m\u001b[1;36m0\u001b[0m\u001b[1;33m]\u001b[0m\u001b[1;33m\u001b[0m\u001b[1;33m\u001b[0m\u001b[0m\n\u001b[1;32m----> 4\u001b[1;33m     \u001b[0msearch_results\u001b[0m \u001b[1;33m=\u001b[0m \u001b[0mmg\u001b[0m\u001b[1;33m.\u001b[0m\u001b[0mquery\u001b[0m\u001b[1;33m(\u001b[0m\u001b[0mkeyword\u001b[0m\u001b[1;33m)\u001b[0m\u001b[1;33m[\u001b[0m\u001b[1;34m\"total\"\u001b[0m\u001b[1;33m]\u001b[0m\u001b[1;33m\u001b[0m\u001b[1;33m\u001b[0m\u001b[0m\n\u001b[0m\u001b[0;32m      5\u001b[0m     \u001b[1;32mif\u001b[0m \u001b[0mi\u001b[0m \u001b[1;33m==\u001b[0m \u001b[1;36m14\u001b[0m\u001b[1;33m:\u001b[0m\u001b[1;33m\u001b[0m\u001b[1;33m\u001b[0m\u001b[0m\n\u001b[0;32m      6\u001b[0m         \u001b[0mprint\u001b[0m\u001b[1;33m(\u001b[0m\u001b[0mmg\u001b[0m\u001b[1;33m.\u001b[0m\u001b[0mquery\u001b[0m\u001b[1;33m(\u001b[0m\u001b[0mkeyword\u001b[0m\u001b[1;33m)\u001b[0m\u001b[1;33m)\u001b[0m\u001b[1;33m\u001b[0m\u001b[1;33m\u001b[0m\u001b[0m\n",
      "\u001b[1;32mc:\\users\\teramoto\\appdata\\local\\programs\\python\\python39\\lib\\site-packages\\biothings_client\\base.py\u001b[0m in \u001b[0;36m_query\u001b[1;34m(self, q, **kwargs)\u001b[0m\n\u001b[0;32m    454\u001b[0m         \u001b[1;32melif\u001b[0m \u001b[0mdataframe\u001b[0m \u001b[1;33m!=\u001b[0m \u001b[1;36m2\u001b[0m\u001b[1;33m:\u001b[0m\u001b[1;33m\u001b[0m\u001b[1;33m\u001b[0m\u001b[0m\n\u001b[0;32m    455\u001b[0m             \u001b[0mdataframe\u001b[0m \u001b[1;33m=\u001b[0m \u001b[1;32mNone\u001b[0m\u001b[1;33m\u001b[0m\u001b[1;33m\u001b[0m\u001b[0m\n\u001b[1;32m--> 456\u001b[1;33m         \u001b[0mfrom_cache\u001b[0m\u001b[1;33m,\u001b[0m \u001b[0mout\u001b[0m \u001b[1;33m=\u001b[0m \u001b[0mself\u001b[0m\u001b[1;33m.\u001b[0m\u001b[0m_get\u001b[0m\u001b[1;33m(\u001b[0m\u001b[0m_url\u001b[0m\u001b[1;33m,\u001b[0m \u001b[0mkwargs\u001b[0m\u001b[1;33m,\u001b[0m \u001b[0mverbose\u001b[0m\u001b[1;33m=\u001b[0m\u001b[0mverbose\u001b[0m\u001b[1;33m)\u001b[0m\u001b[1;33m\u001b[0m\u001b[1;33m\u001b[0m\u001b[0m\n\u001b[0m\u001b[0;32m    457\u001b[0m         \u001b[1;32mif\u001b[0m \u001b[0mverbose\u001b[0m \u001b[1;32mand\u001b[0m \u001b[0mfrom_cache\u001b[0m\u001b[1;33m:\u001b[0m\u001b[1;33m\u001b[0m\u001b[1;33m\u001b[0m\u001b[0m\n\u001b[0;32m    458\u001b[0m             \u001b[0mprint\u001b[0m\u001b[1;33m(\u001b[0m\u001b[0mself\u001b[0m\u001b[1;33m.\u001b[0m\u001b[0m_from_cache_notification\u001b[0m\u001b[1;33m)\u001b[0m\u001b[1;33m\u001b[0m\u001b[1;33m\u001b[0m\u001b[0m\n",
      "\u001b[1;32mc:\\users\\teramoto\\appdata\\local\\programs\\python\\python39\\lib\\site-packages\\biothings_client\\base.py\u001b[0m in \u001b[0;36m_get\u001b[1;34m(self, url, params, none_on_404, verbose)\u001b[0m\n\u001b[0;32m    164\u001b[0m         \u001b[1;32mif\u001b[0m \u001b[0mself\u001b[0m\u001b[1;33m.\u001b[0m\u001b[0mraise_for_status\u001b[0m\u001b[1;33m:\u001b[0m\u001b[1;33m\u001b[0m\u001b[1;33m\u001b[0m\u001b[0m\n\u001b[0;32m    165\u001b[0m             \u001b[1;31m# raise requests.exceptions.HTTPError if not 200\u001b[0m\u001b[1;33m\u001b[0m\u001b[1;33m\u001b[0m\u001b[1;33m\u001b[0m\u001b[0m\n\u001b[1;32m--> 166\u001b[1;33m             \u001b[0mres\u001b[0m\u001b[1;33m.\u001b[0m\u001b[0mraise_for_status\u001b[0m\u001b[1;33m(\u001b[0m\u001b[1;33m)\u001b[0m\u001b[1;33m\u001b[0m\u001b[1;33m\u001b[0m\u001b[0m\n\u001b[0m\u001b[0;32m    167\u001b[0m         \u001b[1;32mif\u001b[0m \u001b[0mreturn_raw\u001b[0m\u001b[1;33m:\u001b[0m\u001b[1;33m\u001b[0m\u001b[1;33m\u001b[0m\u001b[0m\n\u001b[0;32m    168\u001b[0m             \u001b[1;32mreturn\u001b[0m \u001b[0mfrom_cache\u001b[0m\u001b[1;33m,\u001b[0m \u001b[0mres\u001b[0m\u001b[1;33m.\u001b[0m\u001b[0mtext\u001b[0m\u001b[1;33m\u001b[0m\u001b[1;33m\u001b[0m\u001b[0m\n",
      "\u001b[1;32mc:\\users\\teramoto\\appdata\\local\\programs\\python\\python39\\lib\\site-packages\\requests\\models.py\u001b[0m in \u001b[0;36mraise_for_status\u001b[1;34m(self)\u001b[0m\n\u001b[0;32m    941\u001b[0m \u001b[1;33m\u001b[0m\u001b[0m\n\u001b[0;32m    942\u001b[0m         \u001b[1;32mif\u001b[0m \u001b[0mhttp_error_msg\u001b[0m\u001b[1;33m:\u001b[0m\u001b[1;33m\u001b[0m\u001b[1;33m\u001b[0m\u001b[0m\n\u001b[1;32m--> 943\u001b[1;33m             \u001b[1;32mraise\u001b[0m \u001b[0mHTTPError\u001b[0m\u001b[1;33m(\u001b[0m\u001b[0mhttp_error_msg\u001b[0m\u001b[1;33m,\u001b[0m \u001b[0mresponse\u001b[0m\u001b[1;33m=\u001b[0m\u001b[0mself\u001b[0m\u001b[1;33m)\u001b[0m\u001b[1;33m\u001b[0m\u001b[1;33m\u001b[0m\u001b[0m\n\u001b[0m\u001b[0;32m    944\u001b[0m \u001b[1;33m\u001b[0m\u001b[0m\n\u001b[0;32m    945\u001b[0m     \u001b[1;32mdef\u001b[0m \u001b[0mclose\u001b[0m\u001b[1;33m(\u001b[0m\u001b[0mself\u001b[0m\u001b[1;33m)\u001b[0m\u001b[1;33m:\u001b[0m\u001b[1;33m\u001b[0m\u001b[1;33m\u001b[0m\u001b[0m\n",
      "\u001b[1;31mHTTPError\u001b[0m: 400 Client Error: search_phase_execution_exception for url: http://mygene.info/v3/query/?q=PhoP~P"
     ]
    }
   ],
   "source": [
    "for i in range(len(new_data)):\n",
    "    print(i,\"/\",len(new_data))\n",
    "    keyword = new_data[i][0]\n",
    "    try\n",
    "    search_results = mg.query(keyword)[\"total\"]\n",
    "    if i == 14:\n",
    "        print(mg.query(keyword))\n",
    "    new_data[i].append(search_results)"
   ]
  },
  {
   "cell_type": "code",
   "execution_count": 36,
   "metadata": {},
   "outputs": [
    {
     "ename": "HTTPError",
     "evalue": "400 Client Error: search_phase_execution_exception for url: http://mygene.info/v3/query/?q=PhoP~P",
     "output_type": "error",
     "traceback": [
      "\u001b[1;31m---------------------------------------------------------------------------\u001b[0m",
      "\u001b[1;31mHTTPError\u001b[0m                                 Traceback (most recent call last)",
      "\u001b[1;32m<ipython-input-36-cee76426e147>\u001b[0m in \u001b[0;36m<module>\u001b[1;34m\u001b[0m\n\u001b[1;32m----> 1\u001b[1;33m \u001b[0mmg\u001b[0m\u001b[1;33m.\u001b[0m\u001b[0mquery\u001b[0m\u001b[1;33m(\u001b[0m\u001b[0mkeyword\u001b[0m\u001b[1;33m)\u001b[0m\u001b[1;33m\u001b[0m\u001b[1;33m\u001b[0m\u001b[0m\n\u001b[0m",
      "\u001b[1;32mc:\\users\\teramoto\\appdata\\local\\programs\\python\\python39\\lib\\site-packages\\biothings_client\\base.py\u001b[0m in \u001b[0;36m_query\u001b[1;34m(self, q, **kwargs)\u001b[0m\n\u001b[0;32m    454\u001b[0m         \u001b[1;32melif\u001b[0m \u001b[0mdataframe\u001b[0m \u001b[1;33m!=\u001b[0m \u001b[1;36m2\u001b[0m\u001b[1;33m:\u001b[0m\u001b[1;33m\u001b[0m\u001b[1;33m\u001b[0m\u001b[0m\n\u001b[0;32m    455\u001b[0m             \u001b[0mdataframe\u001b[0m \u001b[1;33m=\u001b[0m \u001b[1;32mNone\u001b[0m\u001b[1;33m\u001b[0m\u001b[1;33m\u001b[0m\u001b[0m\n\u001b[1;32m--> 456\u001b[1;33m         \u001b[0mfrom_cache\u001b[0m\u001b[1;33m,\u001b[0m \u001b[0mout\u001b[0m \u001b[1;33m=\u001b[0m \u001b[0mself\u001b[0m\u001b[1;33m.\u001b[0m\u001b[0m_get\u001b[0m\u001b[1;33m(\u001b[0m\u001b[0m_url\u001b[0m\u001b[1;33m,\u001b[0m \u001b[0mkwargs\u001b[0m\u001b[1;33m,\u001b[0m \u001b[0mverbose\u001b[0m\u001b[1;33m=\u001b[0m\u001b[0mverbose\u001b[0m\u001b[1;33m)\u001b[0m\u001b[1;33m\u001b[0m\u001b[1;33m\u001b[0m\u001b[0m\n\u001b[0m\u001b[0;32m    457\u001b[0m         \u001b[1;32mif\u001b[0m \u001b[0mverbose\u001b[0m \u001b[1;32mand\u001b[0m \u001b[0mfrom_cache\u001b[0m\u001b[1;33m:\u001b[0m\u001b[1;33m\u001b[0m\u001b[1;33m\u001b[0m\u001b[0m\n\u001b[0;32m    458\u001b[0m             \u001b[0mprint\u001b[0m\u001b[1;33m(\u001b[0m\u001b[0mself\u001b[0m\u001b[1;33m.\u001b[0m\u001b[0m_from_cache_notification\u001b[0m\u001b[1;33m)\u001b[0m\u001b[1;33m\u001b[0m\u001b[1;33m\u001b[0m\u001b[0m\n",
      "\u001b[1;32mc:\\users\\teramoto\\appdata\\local\\programs\\python\\python39\\lib\\site-packages\\biothings_client\\base.py\u001b[0m in \u001b[0;36m_get\u001b[1;34m(self, url, params, none_on_404, verbose)\u001b[0m\n\u001b[0;32m    164\u001b[0m         \u001b[1;32mif\u001b[0m \u001b[0mself\u001b[0m\u001b[1;33m.\u001b[0m\u001b[0mraise_for_status\u001b[0m\u001b[1;33m:\u001b[0m\u001b[1;33m\u001b[0m\u001b[1;33m\u001b[0m\u001b[0m\n\u001b[0;32m    165\u001b[0m             \u001b[1;31m# raise requests.exceptions.HTTPError if not 200\u001b[0m\u001b[1;33m\u001b[0m\u001b[1;33m\u001b[0m\u001b[1;33m\u001b[0m\u001b[0m\n\u001b[1;32m--> 166\u001b[1;33m             \u001b[0mres\u001b[0m\u001b[1;33m.\u001b[0m\u001b[0mraise_for_status\u001b[0m\u001b[1;33m(\u001b[0m\u001b[1;33m)\u001b[0m\u001b[1;33m\u001b[0m\u001b[1;33m\u001b[0m\u001b[0m\n\u001b[0m\u001b[0;32m    167\u001b[0m         \u001b[1;32mif\u001b[0m \u001b[0mreturn_raw\u001b[0m\u001b[1;33m:\u001b[0m\u001b[1;33m\u001b[0m\u001b[1;33m\u001b[0m\u001b[0m\n\u001b[0;32m    168\u001b[0m             \u001b[1;32mreturn\u001b[0m \u001b[0mfrom_cache\u001b[0m\u001b[1;33m,\u001b[0m \u001b[0mres\u001b[0m\u001b[1;33m.\u001b[0m\u001b[0mtext\u001b[0m\u001b[1;33m\u001b[0m\u001b[1;33m\u001b[0m\u001b[0m\n",
      "\u001b[1;32mc:\\users\\teramoto\\appdata\\local\\programs\\python\\python39\\lib\\site-packages\\requests\\models.py\u001b[0m in \u001b[0;36mraise_for_status\u001b[1;34m(self)\u001b[0m\n\u001b[0;32m    941\u001b[0m \u001b[1;33m\u001b[0m\u001b[0m\n\u001b[0;32m    942\u001b[0m         \u001b[1;32mif\u001b[0m \u001b[0mhttp_error_msg\u001b[0m\u001b[1;33m:\u001b[0m\u001b[1;33m\u001b[0m\u001b[1;33m\u001b[0m\u001b[0m\n\u001b[1;32m--> 943\u001b[1;33m             \u001b[1;32mraise\u001b[0m \u001b[0mHTTPError\u001b[0m\u001b[1;33m(\u001b[0m\u001b[0mhttp_error_msg\u001b[0m\u001b[1;33m,\u001b[0m \u001b[0mresponse\u001b[0m\u001b[1;33m=\u001b[0m\u001b[0mself\u001b[0m\u001b[1;33m)\u001b[0m\u001b[1;33m\u001b[0m\u001b[1;33m\u001b[0m\u001b[0m\n\u001b[0m\u001b[0;32m    944\u001b[0m \u001b[1;33m\u001b[0m\u001b[0m\n\u001b[0;32m    945\u001b[0m     \u001b[1;32mdef\u001b[0m \u001b[0mclose\u001b[0m\u001b[1;33m(\u001b[0m\u001b[0mself\u001b[0m\u001b[1;33m)\u001b[0m\u001b[1;33m:\u001b[0m\u001b[1;33m\u001b[0m\u001b[1;33m\u001b[0m\u001b[0m\n",
      "\u001b[1;31mHTTPError\u001b[0m: 400 Client Error: search_phase_execution_exception for url: http://mygene.info/v3/query/?q=PhoP~P"
     ]
    }
   ],
   "source": [
    "mg.query(keyword)"
   ]
  },
  {
   "cell_type": "code",
   "execution_count": null,
   "metadata": {},
   "outputs": [],
   "source": []
  }
 ],
 "metadata": {
  "kernelspec": {
   "display_name": "Python 3",
   "language": "python",
   "name": "python3"
  },
  "language_info": {
   "codemirror_mode": {
    "name": "ipython",
    "version": 3
   },
   "file_extension": ".py",
   "mimetype": "text/x-python",
   "name": "python",
   "nbconvert_exporter": "python",
   "pygments_lexer": "ipython3",
   "version": "3.9.0"
  }
 },
 "nbformat": 4,
 "nbformat_minor": 4
}
