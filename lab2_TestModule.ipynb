{
 "cells": [
  {
   "cell_type": "code",
   "execution_count": 1,
   "metadata": {},
   "outputs": [
    {
     "name": "stderr",
     "output_type": "stream",
     "text": [
      "WARNING: You are using pip version 20.2.4; however, version 21.3.1 is available.\n",
      "You should consider upgrading via the 'c:\\users\\teramoto\\appdata\\local\\programs\\python\\python39\\python.exe -m pip install --upgrade pip' command.\n"
     ]
    },
    {
     "name": "stdout",
     "output_type": "stream",
     "text": [
      "Collecting mygene\n",
      "  Downloading mygene-3.2.2-py2.py3-none-any.whl (5.4 kB)\n",
      "Collecting biothings-client>=0.2.6\n",
      "  Downloading biothings_client-0.2.6-py2.py3-none-any.whl (37 kB)\n",
      "Requirement already satisfied: requests>=2.3.0 in c:\\users\\teramoto\\appdata\\local\\programs\\python\\python39\\lib\\site-packages (from biothings-client>=0.2.6->mygene) (2.25.0)\n",
      "Requirement already satisfied: urllib3<1.27,>=1.21.1 in c:\\users\\teramoto\\appdata\\local\\programs\\python\\python39\\lib\\site-packages (from requests>=2.3.0->biothings-client>=0.2.6->mygene) (1.26.2)\n",
      "Requirement already satisfied: idna<3,>=2.5 in c:\\users\\teramoto\\appdata\\local\\programs\\python\\python39\\lib\\site-packages (from requests>=2.3.0->biothings-client>=0.2.6->mygene) (2.10)\n",
      "Requirement already satisfied: certifi>=2017.4.17 in c:\\users\\teramoto\\appdata\\local\\programs\\python\\python39\\lib\\site-packages (from requests>=2.3.0->biothings-client>=0.2.6->mygene) (2020.11.8)\n",
      "Requirement already satisfied: chardet<4,>=3.0.2 in c:\\users\\teramoto\\appdata\\local\\programs\\python\\python39\\lib\\site-packages (from requests>=2.3.0->biothings-client>=0.2.6->mygene) (3.0.4)\n",
      "Installing collected packages: biothings-client, mygene\n",
      "Successfully installed biothings-client-0.2.6 mygene-3.2.2\n"
     ]
    }
   ],
   "source": [
    "# ! pip install mygene"
   ]
  },
  {
   "cell_type": "code",
   "execution_count": 33,
   "metadata": {},
   "outputs": [
    {
     "name": "stdout",
     "output_type": "stream",
     "text": [
      "querying 1-1...done.\n"
     ]
    },
    {
     "data": {
      "text/plain": [
       "[{'query': 'CBX8', 'notfound': True}]"
      ]
     },
     "execution_count": 33,
     "metadata": {},
     "output_type": "execute_result"
    }
   ],
   "source": [
    "import mygene\n",
    "mg = mygene.MyGeneInfo()\n",
    "ens =list(['CBX8'])\n",
    "# gene_info=mg.getgenes(ens,\"name,symbol,refseq\")\n",
    "gene_info=mg.getgenes(ens,\"symbol\")\n",
    "gene_info"
   ]
  },
  {
   "cell_type": "code",
   "execution_count": 73,
   "metadata": {},
   "outputs": [
    {
     "data": {
      "text/plain": [
       "{}"
      ]
     },
     "execution_count": 73,
     "metadata": {},
     "output_type": "execute_result"
    }
   ],
   "source": [
    "mg = mygene.MyGeneInfo()\n",
    "# gene_info = mg.getgenes('CBX8', fields='all')\n",
    "gene_info = mg.get_fields('CBX8')"
   ]
  },
  {
   "cell_type": "code",
   "execution_count": 74,
   "metadata": {},
   "outputs": [
    {
     "data": {
      "text/plain": [
       "dict"
      ]
     },
     "execution_count": 74,
     "metadata": {},
     "output_type": "execute_result"
    }
   ],
   "source": [
    "type(gene_info)"
   ]
  },
  {
   "cell_type": "code",
   "execution_count": 70,
   "metadata": {},
   "outputs": [
    {
     "data": {
      "text/plain": [
       "{}"
      ]
     },
     "execution_count": 70,
     "metadata": {},
     "output_type": "execute_result"
    }
   ],
   "source": [
    "gene_info"
   ]
  },
  {
   "cell_type": "code",
   "execution_count": 35,
   "metadata": {},
   "outputs": [
    {
     "name": "stdout",
     "output_type": "stream",
     "text": [
      "querying 1-1...done.\n"
     ]
    }
   ],
   "source": [
    "import mygene\n",
    "mg = mygene.MyGeneInfo()\n",
    "ens =list(['ENSG00000141570'])\n",
    "gene_info=mg.getgenes(ens)\n",
    "# gene_info"
   ]
  },
  {
   "cell_type": "code",
   "execution_count": 38,
   "metadata": {},
   "outputs": [
    {
     "data": {
      "text/plain": [
       "1"
      ]
     },
     "execution_count": 38,
     "metadata": {},
     "output_type": "execute_result"
    }
   ],
   "source": [
    "len(gene_info)"
   ]
  },
  {
   "cell_type": "code",
   "execution_count": 37,
   "metadata": {},
   "outputs": [
    {
     "data": {
      "text/plain": [
       "dict"
      ]
     },
     "execution_count": 37,
     "metadata": {},
     "output_type": "execute_result"
    }
   ],
   "source": [
    "type(gene_info[0])"
   ]
  },
  {
   "cell_type": "code",
   "execution_count": 31,
   "metadata": {},
   "outputs": [
    {
     "name": "stdout",
     "output_type": "stream",
     "text": [
      "query : <class 'str'>\n",
      "HGNC : <class 'str'>\n",
      "MIM : <class 'str'>\n",
      "_id : <class 'str'>\n",
      "_version : <class 'int'>\n",
      "accession : <class 'dict'>\n",
      "alias : <class 'list'>\n",
      "ensembl : <class 'dict'>\n",
      "entrezgene : <class 'str'>\n",
      "exac : <class 'dict'>\n",
      "exons : <class 'list'>\n",
      "exons_hg19 : <class 'list'>\n",
      "generif : <class 'list'>\n",
      "genomic_pos : <class 'dict'>\n",
      "genomic_pos_hg19 : <class 'list'>\n",
      "go : <class 'dict'>\n",
      "homologene : <class 'dict'>\n",
      "interpro : <class 'list'>\n",
      "ipi : <class 'list'>\n",
      "map_location : <class 'str'>\n",
      "name : <class 'str'>\n",
      "other_names : <class 'list'>\n",
      "pantherdb : <class 'dict'>\n",
      "pathway : <class 'dict'>\n",
      "pdb : <class 'list'>\n",
      "pfam : <class 'list'>\n",
      "pharmgkb : <class 'str'>\n",
      "pharos : <class 'dict'>\n",
      "prosite : <class 'str'>\n",
      "reagent : <class 'dict'>\n",
      "refseq : <class 'dict'>\n",
      "reporter : <class 'dict'>\n",
      "retired : <class 'list'>\n",
      "symbol : <class 'str'>\n",
      "taxid : <class 'int'>\n",
      "type_of_gene : <class 'str'>\n",
      "umls : <class 'dict'>\n",
      "unigene : <class 'str'>\n",
      "uniprot : <class 'dict'>\n",
      "wikipedia : <class 'dict'>\n"
     ]
    }
   ],
   "source": [
    "for key,value in gene_info[0].items():\n",
    "    print(key, ':',type(value))"
   ]
  },
  {
   "cell_type": "code",
   "execution_count": 41,
   "metadata": {},
   "outputs": [
    {
     "data": {
      "text/plain": [
       "{'gene': 'ENSG00000141570',\n",
       " 'protein': ['ENSP00000269385', 'ENSP00000405058', 'ENSP00000408753'],\n",
       " 'transcript': ['ENST00000269385',\n",
       "  'ENST00000413392',\n",
       "  'ENST00000427800',\n",
       "  'ENST00000485449'],\n",
       " 'translation': [{'protein': 'ENSP00000269385', 'rna': 'ENST00000269385'},\n",
       "  {'protein': 'ENSP00000405058', 'rna': 'ENST00000413392'},\n",
       "  {'protein': 'ENSP00000408753', 'rna': 'ENST00000427800'}],\n",
       " 'type_of_gene': 'protein_coding'}"
      ]
     },
     "execution_count": 41,
     "metadata": {},
     "output_type": "execute_result"
    }
   ],
   "source": [
    "gene_info[0][\"ensembl\"]"
   ]
  },
  {
   "cell_type": "code",
   "execution_count": 42,
   "metadata": {},
   "outputs": [
    {
     "data": {
      "text/plain": [
       "'CBX8'"
      ]
     },
     "execution_count": 42,
     "metadata": {},
     "output_type": "execute_result"
    }
   ],
   "source": [
    "gene_info[0][\"symbol\"]"
   ]
  },
  {
   "cell_type": "code",
   "execution_count": 7,
   "metadata": {},
   "outputs": [],
   "source": [
    "# ID抽出（本当は遺伝子とタンパクは一対一ではないので３つ全部やった方がいいかもしれないが最初のタンパクだけをとりあえず採用）\n",
    "protein_id=gene_info[0][\"ensembl\"][\"protein\"][0]\n",
    "gene_id=\"ENSG00000141570\""
   ]
  },
  {
   "cell_type": "code",
   "execution_count": 9,
   "metadata": {},
   "outputs": [
    {
     "name": "stdout",
     "output_type": "stream",
     "text": [
      "AGTGCTTCTCTAACAAGGAGGATGTGTGGATGTCTCCTAGGGAGGAGAAAGTGGGACAGGAAAGGTGGGAGCTTCTTGCTCTTGGGAACAACTAGCGGCGG\n"
     ]
    }
   ],
   "source": [
    "#遺伝子配列\n",
    "import requests, sys\n",
    " \n",
    "server = \"https://rest.ensembl.org\"\n",
    "ext = \"/sequence/id/\"+gene_id+\"?\"\n",
    " \n",
    "r = requests.get(server+ext, headers={ \"Content-Type\" : \"text/plain\"})\n",
    " \n",
    "if not r.ok:\n",
    "  r.raise_for_status()\n",
    "  sys.exit()\n",
    " \n",
    " \n",
    "print(r.text[0:101])"
   ]
  },
  {
   "cell_type": "code",
   "execution_count": 10,
   "metadata": {},
   "outputs": [
    {
     "name": "stdout",
     "output_type": "stream",
     "text": [
      "MELSAVGERVFAAEALLKRRIRKGRMEYLVKWKGWSQKYSTWEPEENILDARLLAAFEEREREMELYGPKKRGPKPKTFLLKAQAKAKAKTYEFRSDSARGIRIPYPGRSPQDLASTSRAREGLRNMGLSPPASSTSTSSTCRAEAPRDRDRDRDRDRERDRERERERERERERERERERGTSRVDDKPSSPGDSSKKRGPKPRKELPDPSQRPLGEPSAGLGEYLKGRKLDDTPSGAGKFPAGHSVIQLARRQDSDLVQCGVTSPSSAEATGKLAVDTFPARVIKHRAAFLEAKGQGALDPNGTRVRHGSGPPSSGGGLYRDMGAQGGRPSLIARIPVARILGDPEEESWSPSLTNLEKVVVTDVTSNFLTVTIKESNTDQGFFKEKR\n"
     ]
    }
   ],
   "source": [
    "# アミノ酸配列\n",
    "import requests, sys\n",
    " \n",
    "server = \"https://rest.ensembl.org\"\n",
    "ext = \"/sequence/id/\"+protein_id+\"?\"\n",
    " \n",
    "r = requests.get(server+ext, headers={ \"Content-Type\" : \"text/plain\"})\n",
    " \n",
    "if not r.ok:\n",
    "  r.raise_for_status()\n",
    "  sys.exit()\n",
    " \n",
    " \n",
    "print(r.text)"
   ]
  },
  {
   "cell_type": "code",
   "execution_count": 75,
   "metadata": {},
   "outputs": [
    {
     "name": "stdout",
     "output_type": "stream",
     "text": [
      "Requirement already satisfied: biothings_client in c:\\users\\teramoto\\appdata\\local\\programs\\python\\python39\\lib\\site-packages (0.2.6)"
     ]
    },
    {
     "name": "stderr",
     "output_type": "stream",
     "text": [
      "WARNING: You are using pip version 20.2.4; however, version 21.3.1 is available.\n",
      "You should consider upgrading via the 'c:\\users\\teramoto\\appdata\\local\\programs\\python\\python39\\python.exe -m pip install --upgrade pip' command.\n"
     ]
    },
    {
     "name": "stdout",
     "output_type": "stream",
     "text": [
      "\n",
      "Requirement already satisfied: requests>=2.3.0 in c:\\users\\teramoto\\appdata\\local\\programs\\python\\python39\\lib\\site-packages (from biothings_client) (2.25.0)\n",
      "Requirement already satisfied: chardet<4,>=3.0.2 in c:\\users\\teramoto\\appdata\\local\\programs\\python\\python39\\lib\\site-packages (from requests>=2.3.0->biothings_client) (3.0.4)\n",
      "Requirement already satisfied: certifi>=2017.4.17 in c:\\users\\teramoto\\appdata\\local\\programs\\python\\python39\\lib\\site-packages (from requests>=2.3.0->biothings_client) (2020.11.8)\n",
      "Requirement already satisfied: urllib3<1.27,>=1.21.1 in c:\\users\\teramoto\\appdata\\local\\programs\\python\\python39\\lib\\site-packages (from requests>=2.3.0->biothings_client) (1.26.2)\n",
      "Requirement already satisfied: idna<3,>=2.5 in c:\\users\\teramoto\\appdata\\local\\programs\\python\\python39\\lib\\site-packages (from requests>=2.3.0->biothings_client) (2.10)\n"
     ]
    }
   ],
   "source": [
    "!pip install biothings_client"
   ]
  },
  {
   "cell_type": "code",
   "execution_count": 77,
   "metadata": {},
   "outputs": [],
   "source": [
    "from biothings_client import get_client\n",
    "mg = get_client('gene')"
   ]
  },
  {
   "cell_type": "code",
   "execution_count": 86,
   "metadata": {},
   "outputs": [
    {
     "data": {
      "text/plain": [
       "{'took': 8,\n",
       " 'total': 386,\n",
       " 'max_score': 451.68317,\n",
       " 'hits': [{'_id': '57332',\n",
       "   '_score': 451.68317,\n",
       "   'entrezgene': '57332',\n",
       "   'name': 'chromobox 8',\n",
       "   'symbol': 'CBX8',\n",
       "   'taxid': 9606},\n",
       "  {'_id': '30951',\n",
       "   '_score': 378.83105,\n",
       "   'entrezgene': '30951',\n",
       "   'name': 'chromobox 8',\n",
       "   'symbol': 'Cbx8',\n",
       "   'taxid': 10090},\n",
       "  {'_id': '303731',\n",
       "   '_score': 320.54938,\n",
       "   'entrezgene': '303731',\n",
       "   'name': 'chromobox 8',\n",
       "   'symbol': 'Cbx8',\n",
       "   'taxid': 10116},\n",
       "  {'_id': '101651596',\n",
       "   '_score': 291.4085,\n",
       "   'entrezgene': '101651596',\n",
       "   'name': 'chromobox 8',\n",
       "   'symbol': 'CBX8',\n",
       "   'taxid': 9371},\n",
       "  {'_id': 'ENSGGOG00000009807',\n",
       "   '_score': 291.4085,\n",
       "   'name': 'chromobox 8',\n",
       "   'symbol': 'CBX8',\n",
       "   'taxid': 9595},\n",
       "  {'_id': '100756264',\n",
       "   '_score': 291.4085,\n",
       "   'entrezgene': '100756264',\n",
       "   'name': 'chromobox 8',\n",
       "   'symbol': 'Cbx8',\n",
       "   'taxid': 10029},\n",
       "  {'_id': '100408641',\n",
       "   '_score': 291.4085,\n",
       "   'entrezgene': '100408641',\n",
       "   'name': 'chromobox 8',\n",
       "   'symbol': 'CBX8',\n",
       "   'taxid': 9483},\n",
       "  {'_id': '100050416',\n",
       "   '_score': 291.4085,\n",
       "   'entrezgene': '100050416',\n",
       "   'name': 'chromobox 8',\n",
       "   'symbol': 'CBX8',\n",
       "   'taxid': 9796},\n",
       "  {'_id': 'ENSEEUG00000004773',\n",
       "   '_score': 291.4085,\n",
       "   'name': 'chromobox 8',\n",
       "   'symbol': 'CBX8',\n",
       "   'taxid': 9365},\n",
       "  {'_id': 'ENSFALG00000025311',\n",
       "   '_score': 291.4085,\n",
       "   'name': 'chromobox 8',\n",
       "   'symbol': 'CBX8',\n",
       "   'taxid': 59894}]}"
      ]
     },
     "execution_count": 86,
     "metadata": {},
     "output_type": "execute_result"
    }
   ],
   "source": [
    "# mg.getgene()\n",
    "mg.query('CBX8')"
   ]
  },
  {
   "cell_type": "code",
   "execution_count": 87,
   "metadata": {},
   "outputs": [
    {
     "data": {
      "text/plain": [
       "{'took': 2,\n",
       " 'total': 1,\n",
       " 'max_score': 2.8632226,\n",
       " 'hits': [{'_id': '57332',\n",
       "   '_score': 2.8632226,\n",
       "   'entrezgene': '57332',\n",
       "   'name': 'chromobox 8',\n",
       "   'symbol': 'CBX8',\n",
       "   'taxid': 9606}]}"
      ]
     },
     "execution_count": 87,
     "metadata": {},
     "output_type": "execute_result"
    }
   ],
   "source": [
    "# mg.query('ENSG00000141570')"
   ]
  },
  {
   "cell_type": "code",
   "execution_count": 91,
   "metadata": {},
   "outputs": [],
   "source": [
    "mg = get_client(\"gene\")\n",
    "gene_info = mg.getgene(\"ENSG00000141570\")"
   ]
  },
  {
   "cell_type": "code",
   "execution_count": 120,
   "metadata": {},
   "outputs": [],
   "source": [
    "gene_info_CBX8 = mg.getgene(\"Cbx8\")"
   ]
  },
  {
   "cell_type": "code",
   "execution_count": 121,
   "metadata": {},
   "outputs": [
    {
     "ename": "TypeError",
     "evalue": "object of type 'NoneType' has no len()",
     "output_type": "error",
     "traceback": [
      "\u001b[1;31m---------------------------------------------------------------------------\u001b[0m",
      "\u001b[1;31mTypeError\u001b[0m                                 Traceback (most recent call last)",
      "\u001b[1;32m<ipython-input-121-0a17d2b9a158>\u001b[0m in \u001b[0;36m<module>\u001b[1;34m\u001b[0m\n\u001b[1;32m----> 1\u001b[1;33m \u001b[0mlen\u001b[0m\u001b[1;33m(\u001b[0m\u001b[0mgene_info_CBX8\u001b[0m\u001b[1;33m)\u001b[0m\u001b[1;33m\u001b[0m\u001b[1;33m\u001b[0m\u001b[0m\n\u001b[0m",
      "\u001b[1;31mTypeError\u001b[0m: object of type 'NoneType' has no len()"
     ]
    }
   ],
   "source": [
    "len(gene_info_CBX8)"
   ]
  },
  {
   "cell_type": "code",
   "execution_count": 99,
   "metadata": {},
   "outputs": [
    {
     "name": "stdout",
     "output_type": "stream",
     "text": [
      "HGNC : <class 'str'>\n",
      "MIM : <class 'str'>\n",
      "_id : <class 'str'>\n",
      "_version : <class 'int'>\n",
      "accession : <class 'dict'>\n",
      "alias : <class 'list'>\n",
      "ensembl : <class 'dict'>\n",
      "entrezgene : <class 'str'>\n",
      "exac : <class 'dict'>\n",
      "exons : <class 'list'>\n",
      "exons_hg19 : <class 'list'>\n",
      "generif : <class 'list'>\n",
      "genomic_pos : <class 'dict'>\n",
      "genomic_pos_hg19 : <class 'list'>\n",
      "go : <class 'dict'>\n",
      "homologene : <class 'dict'>\n",
      "interpro : <class 'list'>\n",
      "ipi : <class 'list'>\n",
      "map_location : <class 'str'>\n",
      "name : <class 'str'>\n",
      "other_names : <class 'list'>\n",
      "pantherdb : <class 'dict'>\n",
      "pathway : <class 'dict'>\n",
      "pdb : <class 'list'>\n",
      "pfam : <class 'list'>\n",
      "pharmgkb : <class 'str'>\n",
      "pharos : <class 'dict'>\n",
      "prosite : <class 'str'>\n",
      "reagent : <class 'dict'>\n",
      "refseq : <class 'dict'>\n",
      "reporter : <class 'dict'>\n",
      "retired : <class 'list'>\n",
      "symbol : <class 'str'>\n",
      "taxid : <class 'int'>\n",
      "type_of_gene : <class 'str'>\n",
      "umls : <class 'dict'>\n",
      "unigene : <class 'str'>\n",
      "uniprot : <class 'dict'>\n",
      "wikipedia : <class 'dict'>\n"
     ]
    }
   ],
   "source": [
    "for key,value in gene_info.items():\n",
    "    print(key,\":\",type(value))"
   ]
  },
  {
   "cell_type": "code",
   "execution_count": 100,
   "metadata": {},
   "outputs": [
    {
     "data": {
      "text/plain": [
       "'57332'"
      ]
     },
     "execution_count": 100,
     "metadata": {},
     "output_type": "execute_result"
    }
   ],
   "source": [
    "gene_info[\"entrezgene\"]\n",
    "#人間とか犬とか生物のカテゴリを表すID"
   ]
  },
  {
   "cell_type": "code",
   "execution_count": 112,
   "metadata": {},
   "outputs": [
    {
     "data": {
      "text/plain": [
       "['2N4Q', '3I91', '5EQ0']"
      ]
     },
     "execution_count": 112,
     "metadata": {},
     "output_type": "execute_result"
    }
   ],
   "source": [
    "gene_info[\"pdb\"]\n",
    "#PDB IDは重複しない４文字のコードで、タンパク質\n",
    "#データバンクの各エントリーに割り振られます。\n",
    "#最初の文字は必ず1から9までの数字で、残りの３文字は\n",
    "#アルファベットまたは数字が使われます。"
   ]
  },
  {
   "cell_type": "code",
   "execution_count": 105,
   "metadata": {},
   "outputs": [
    {
     "data": {
      "text/plain": [
       "{'pubmed': 17332741,\n",
       " 'text': 'CBX8 is an essential component of one of the polycomb repressive complexes, which directly regulate the expression of numerous target genes, including the INK4A-ARF locus, involved in cell-fate decisions.'}"
      ]
     },
     "execution_count": 105,
     "metadata": {},
     "output_type": "execute_result"
    }
   ],
   "source": [
    "gene_info[\"generif\"][0]"
   ]
  },
  {
   "cell_type": "code",
   "execution_count": 113,
   "metadata": {},
   "outputs": [
    {
     "data": {
      "text/plain": [
       "{'chr': '17',\n",
       " 'end': 79801683,\n",
       " 'ensemblgene': 'ENSG00000141570',\n",
       " 'start': 79792132,\n",
       " 'strand': -1}"
      ]
     },
     "execution_count": 113,
     "metadata": {},
     "output_type": "execute_result"
    }
   ],
   "source": [
    "gene_info[\"genomic_pos\"]"
   ]
  },
  {
   "cell_type": "code",
   "execution_count": 109,
   "metadata": {},
   "outputs": [
    {
     "data": {
      "text/plain": [
       "'ENSG00000141570'"
      ]
     },
     "execution_count": 109,
     "metadata": {},
     "output_type": "execute_result"
    }
   ],
   "source": [
    "gene_info[\"genomic_pos\"][\"ensemblgene\"]"
   ]
  },
  {
   "cell_type": "code",
   "execution_count": 108,
   "metadata": {},
   "outputs": [
    {
     "data": {
      "text/plain": [
       "[{'chr': '17', 'end': 77775482, 'start': 77765931, 'strand': -1},\n",
       " {'chr': 'HG748_PATCH', 'end': 77797765, 'start': 77788214, 'strand': -1}]"
      ]
     },
     "execution_count": 108,
     "metadata": {},
     "output_type": "execute_result"
    }
   ],
   "source": [
    "gene_info[\"genomic_pos_hg19\"]"
   ]
  },
  {
   "cell_type": "code",
   "execution_count": 115,
   "metadata": {},
   "outputs": [
    {
     "data": {
      "text/plain": [
       "'Hs.387258'"
      ]
     },
     "execution_count": 115,
     "metadata": {},
     "output_type": "execute_result"
    }
   ],
   "source": [
    "gene_info[\"unigene\"]"
   ]
  },
  {
   "cell_type": "code",
   "execution_count": 114,
   "metadata": {},
   "outputs": [
    {
     "data": {
      "text/plain": [
       "{'Swiss-Prot': 'Q9HC52', 'TrEMBL': ['C9J6K3', 'C9JM54']}"
      ]
     },
     "execution_count": 114,
     "metadata": {},
     "output_type": "execute_result"
    }
   ],
   "source": [
    "gene_info[\"uniprot\"]"
   ]
  },
  {
   "cell_type": "code",
   "execution_count": 116,
   "metadata": {},
   "outputs": [
    {
     "data": {
      "text/plain": [
       "'chromobox 8'"
      ]
     },
     "execution_count": 116,
     "metadata": {},
     "output_type": "execute_result"
    }
   ],
   "source": [
    "gene_info[\"name\"]"
   ]
  },
  {
   "cell_type": "code",
   "execution_count": 118,
   "metadata": {},
   "outputs": [
    {
     "data": {
      "text/plain": [
       "['Pc class 3 homolog',\n",
       " 'chromobox homolog 8 (Pc class homolog, Drosophila)',\n",
       " 'chromobox protein homolog 8',\n",
       " 'polycomb 3',\n",
       " 'rectachrome 1']"
      ]
     },
     "execution_count": 118,
     "metadata": {},
     "output_type": "execute_result"
    }
   ],
   "source": [
    "gene_info[\"other_names\"]"
   ]
  },
  {
   "cell_type": "code",
   "execution_count": 119,
   "metadata": {},
   "outputs": [
    {
     "data": {
      "text/plain": [
       "['PF00385', 'PF17218']"
      ]
     },
     "execution_count": 119,
     "metadata": {},
     "output_type": "execute_result"
    }
   ],
   "source": [
    "gene_info[\"pfam\"]"
   ]
  },
  {
   "cell_type": "code",
   "execution_count": null,
   "metadata": {},
   "outputs": [],
   "source": []
  }
 ],
 "metadata": {
  "kernelspec": {
   "display_name": "Python 3",
   "language": "python",
   "name": "python3"
  },
  "language_info": {
   "codemirror_mode": {
    "name": "ipython",
    "version": 3
   },
   "file_extension": ".py",
   "mimetype": "text/x-python",
   "name": "python",
   "nbconvert_exporter": "python",
   "pygments_lexer": "ipython3",
   "version": "3.9.0"
  }
 },
 "nbformat": 4,
 "nbformat_minor": 4
}
