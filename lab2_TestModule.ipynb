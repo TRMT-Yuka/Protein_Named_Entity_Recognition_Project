{
 "cells": [
  {
   "cell_type": "code",
   "execution_count": 1,
   "metadata": {},
   "outputs": [],
   "source": [
    "# !pip install mygene\n",
    "# !pip install biothings_client"
   ]
  },
  {
   "cell_type": "code",
   "execution_count": 5,
   "metadata": {},
   "outputs": [],
   "source": [
    "from biothings_client import get_client\n",
    "mg = get_client(\"gene\")"
   ]
  },
  {
   "cell_type": "code",
   "execution_count": 23,
   "metadata": {},
   "outputs": [],
   "source": [
    "# キーワードの検索結果件数と一覧\n",
    "\n",
    "# mg.query(keyword)\n",
    "\n",
    "# {'took': 12,\n",
    "#  'total': 2307,\n",
    "#  'max_score': 394.02466,\n",
    "#  'hits': [{'_id': '10845',\n",
    "#    '_score': 394.02466,\n",
    "#    'entrezgene': '10845',\n",
    "#    'name': 'caseinolytic mitochondrial matrix peptidase chaperone subunit X',\n",
    "#    'symbol': 'CLPX',\n",
    "#    'taxid': 9606},\n",
    "#   {'_id': '270166',....."
   ]
  },
  {
   "cell_type": "markdown",
   "metadata": {},
   "source": [
    "# gene_infoの各項目"
   ]
  },
  {
   "cell_type": "code",
   "execution_count": 25,
   "metadata": {},
   "outputs": [],
   "source": [
    "gene_info = mg.getgene(\"ENSG00000141570\")"
   ]
  },
  {
   "cell_type": "code",
   "execution_count": 9,
   "metadata": {
    "scrolled": true
   },
   "outputs": [
    {
     "name": "stdout",
     "output_type": "stream",
     "text": [
      "HGNC : <class 'str'>\n",
      "MIM : <class 'str'>\n",
      "_id : <class 'str'>\n",
      "_version : <class 'int'>\n",
      "accession : <class 'dict'>\n",
      "alias : <class 'list'>\n",
      "ensembl : <class 'dict'>\n",
      "entrezgene : <class 'str'>\n",
      "exac : <class 'dict'>\n",
      "exons : <class 'list'>\n",
      "exons_hg19 : <class 'list'>\n",
      "generif : <class 'list'>\n",
      "genomic_pos : <class 'dict'>\n",
      "genomic_pos_hg19 : <class 'list'>\n",
      "go : <class 'dict'>\n",
      "homologene : <class 'dict'>\n",
      "interpro : <class 'list'>\n",
      "ipi : <class 'list'>\n",
      "map_location : <class 'str'>\n",
      "name : <class 'str'>\n",
      "other_names : <class 'list'>\n",
      "pantherdb : <class 'dict'>\n",
      "pathway : <class 'dict'>\n",
      "pdb : <class 'list'>\n",
      "pfam : <class 'list'>\n",
      "pharmgkb : <class 'str'>\n",
      "pharos : <class 'dict'>\n",
      "prosite : <class 'str'>\n",
      "reagent : <class 'dict'>\n",
      "refseq : <class 'dict'>\n",
      "reporter : <class 'dict'>\n",
      "retired : <class 'list'>\n",
      "symbol : <class 'str'>\n",
      "taxid : <class 'int'>\n",
      "type_of_gene : <class 'str'>\n",
      "umls : <class 'dict'>\n",
      "unigene : <class 'str'>\n",
      "uniprot : <class 'dict'>\n",
      "wikipedia : <class 'dict'>\n"
     ]
    }
   ],
   "source": [
    "for key,value in gene_info.items():\n",
    "    print(key,\":\",type(value))"
   ]
  },
  {
   "cell_type": "code",
   "execution_count": 30,
   "metadata": {},
   "outputs": [
    {
     "data": {
      "text/plain": [
       "['2N4Q', '3I91', '5EQ0']"
      ]
     },
     "execution_count": 30,
     "metadata": {},
     "output_type": "execute_result"
    }
   ],
   "source": [
    "gene_info[\"ensembl\"]\n",
    "# {'gene': 'ENSG00000141570',\n",
    "#  'protein': ['ENSP00000269385', 'ENSP00000405058', 'ENSP00000408753'],\n",
    "#  'transcript': ['ENST00000269385',....],\n",
    "#  'translation': [{'protein': 'ENSP00000269385', 'rna': 'ENST00000269385'},....],\n",
    "#  'type_of_gene': 'protein_coding'}\n",
    "gene_info[\"ensembl\"][\"gene\"]\n",
    "# 遺伝子に関する情報\n",
    "gene_info[\"ensembl\"][\"protein\"]\n",
    "# 生成されるタンパク質種類\n",
    "\n",
    "gene_info[\"entrezgene\"]\n",
    "#人間とか犬とか生物のカテゴリを表すID\n",
    "\n",
    "gene_info[\"pdb\"]\n",
    "#PDB IDは重複しない４文字のコードで、タンパク質\n",
    "#データバンクの各エントリーに割り振られます。\n",
    "#最初の文字は必ず1から9までの数字で、残りの３文字は\n",
    "#アルファベットまたは数字が使われます。\n",
    "\n",
    "gene_info[\"generif\"]\n",
    "# 文献と出現テキストのリスト\n",
    "# [{'pubmed': 17332741,'text': 'CBX8 is an essenti...'}]\n",
    "\n",
    "gene_info[\"name\"]\n",
    "#正式名称\n",
    "\n",
    "gene_info[\"other_names\"]\n",
    "# 正式名称表記ゆれ\n",
    "\n",
    "gene_info[\"pdb\"]\n",
    "#タンパク質固有ID\n",
    "# ['2N4Q', '3I91', '5EQ0']"
   ]
  },
  {
   "cell_type": "markdown",
   "metadata": {},
   "source": [
    "# データの読み込み"
   ]
  },
  {
   "cell_type": "code",
   "execution_count": 1,
   "metadata": {},
   "outputs": [],
   "source": [
    "import pandas as pd\n",
    "data = pd.read_csv('data_summary/PROT/lll_bioc_prot.csv').values.tolist()"
   ]
  },
  {
   "cell_type": "code",
   "execution_count": null,
   "metadata": {},
   "outputs": [],
   "source": [
    "label = [\"protein\",\"appearances\",\"search_results\"]"
   ]
  },
  {
   "cell_type": "code",
   "execution_count": 3,
   "metadata": {},
   "outputs": [
    {
     "data": {
      "text/plain": [
       "[['ClpX', 6],\n",
       " ['ComK', 10],\n",
       " ['CsbB', 2],\n",
       " ['CtsR', 6],\n",
       " ['DnaK', 8],\n",
       " ['E sigma E', 6],\n",
       " ['EsigmaF', 8],\n",
       " ['FlgM', 13],\n",
       " ['FtsZ', 25],\n",
       " ['GerE', 210]]"
      ]
     },
     "execution_count": 3,
     "metadata": {},
     "output_type": "execute_result"
    }
   ],
   "source": [
    "data[0:10]"
   ]
  },
  {
   "cell_type": "code",
   "execution_count": 51,
   "metadata": {},
   "outputs": [],
   "source": [
    "keyword = \"momo\""
   ]
  },
  {
   "cell_type": "code",
   "execution_count": 53,
   "metadata": {},
   "outputs": [
    {
     "data": {
      "text/plain": [
       "{'took': 4,\n",
       " 'total': 4,\n",
       " 'max_score': 13.657011,\n",
       " 'hits': [{'_id': '114907846',\n",
       "   '_score': 13.657011,\n",
       "   'entrezgene': '114907846',\n",
       "   'name': 'DLA class II histocompatibility antigen, DR-1 beta chain-like',\n",
       "   'symbol': 'LOC114907846',\n",
       "   'taxid': 40151},\n",
       "  {'_id': '30170',\n",
       "   '_score': 5.9296494,\n",
       "   'entrezgene': '30170',\n",
       "   'name': 'dharma',\n",
       "   'symbol': 'dharma',\n",
       "   'taxid': 7955},\n",
       "  {'_id': '282845',\n",
       "   '_score': 4.838886,\n",
       "   'entrezgene': '282845',\n",
       "   'name': 'ring finger protein 34',\n",
       "   'symbol': 'Rnf34',\n",
       "   'taxid': 10116},\n",
       "  {'_id': '80196',\n",
       "   '_score': 2.1278205,\n",
       "   'entrezgene': '80196',\n",
       "   'name': 'ring finger protein 34',\n",
       "   'symbol': 'RNF34',\n",
       "   'taxid': 9606}]}"
      ]
     },
     "execution_count": 53,
     "metadata": {},
     "output_type": "execute_result"
    }
   ],
   "source": [
    "mg.query(keyword)"
   ]
  },
  {
   "cell_type": "code",
   "execution_count": 94,
   "metadata": {},
   "outputs": [],
   "source": [
    "import copy\n",
    "new_data = copy.deepcopy(data)"
   ]
  },
  {
   "cell_type": "code",
   "execution_count": 95,
   "metadata": {},
   "outputs": [
    {
     "data": {
      "text/plain": [
       "[['ClpX', 6],\n",
       " ['ComK', 10],\n",
       " ['CsbB', 2],\n",
       " ['CtsR', 6],\n",
       " ['DnaK', 8],\n",
       " ['E sigma E', 6],\n",
       " ['EsigmaF', 8],\n",
       " ['FlgM', 13],\n",
       " ['FtsZ', 25],\n",
       " ['GerE', 210],\n",
       " ['KatX', 8],\n",
       " ['KinC', 2],\n",
       " ['KinD', 2],\n",
       " ['PBP4*', 7],\n",
       " ['PhoP~P', 3]]"
      ]
     },
     "execution_count": 95,
     "metadata": {},
     "output_type": "execute_result"
    }
   ],
   "source": [
    "new_data[0:15]"
   ]
  },
  {
   "cell_type": "code",
   "execution_count": 62,
   "metadata": {},
   "outputs": [],
   "source": [
    "import urllib"
   ]
  },
  {
   "cell_type": "code",
   "execution_count": null,
   "metadata": {},
   "outputs": [],
   "source": [
    "for i in range(len(new_data)):\n",
    "    keyword = new_data[i][0]\n",
    "    try:\n",
    "        result = mg.query(keyword)\n",
    "        search_results = result[\"total\"]\n",
    "        print(i,\"/\",len(new_data),\"   \",keyword,\"=>\",search_results)\n",
    "    except:\n",
    "        print(i,\"/\",len(new_data),\"   HTTPError\")\n",
    "        search_results = -1\n",
    "    new_data[i].append(search_results)"
   ]
  },
  {
   "cell_type": "code",
   "execution_count": 97,
   "metadata": {},
   "outputs": [
    {
     "name": "stdout",
     "output_type": "stream",
     "text": [
      "0 / 120     ClpX => 2319 (max_hits 1 )\n",
      "1 / 120     ComK => 166 (max_hits 3 )\n",
      "2 / 120     CsbB => 4 (max_hits 3 )\n",
      "3 / 120     CtsR => 226 (max_hits 1 )\n",
      "4 / 120     DnaK => 2136 (max_hits 10 )\n",
      "5 / 120     E sigma E => 1007 (max_hits 10 )\n",
      "6 / 120     EsigmaF => 0 (max_hits 0 )\n",
      "7 / 120     FlgM => 514 (max_hits 10 )\n",
      "8 / 120     FtsZ => 2955 (max_hits 10 )\n",
      "9 / 120     GerE => 28 (max_hits 10 )\n"
     ]
    }
   ],
   "source": [
    "for i in range(len(new_data[0:10])):\n",
    "    keyword = new_data[i][0]\n",
    "    try:\n",
    "        result = mg.query(keyword)\n",
    "        search_results = result[\"total\"]\n",
    "        max_score = result[\"max_score\"]\n",
    "        \n",
    "        max_score_hit = []\n",
    "        if search_results != 0:\n",
    "            for hit in result[\"hits\"]:\n",
    "                if hit[\"_score\"] == max_score:\n",
    "                    max_score_hit.append(hit)\n",
    "        print(i,\"/\",len(new_data)-1,\"   \",keyword,\"=>\",search_results,\"(max_hits\",len(max_score_hit),\")\")\n",
    "    except:\n",
    "        print(i,\"/\",len(new_data),\"   HTTPError\")\n",
    "        search_results = -1\n",
    "    new_data[i].append(search_results)\n",
    "    new_data[i].append(len(max_score_hit))"
   ]
  },
  {
   "cell_type": "code",
   "execution_count": 68,
   "metadata": {},
   "outputs": [],
   "source": [
    "new_data_row_2 = [row[2] for row in new_data]"
   ]
  },
  {
   "cell_type": "code",
   "execution_count": 72,
   "metadata": {
    "scrolled": true
   },
   "outputs": [
    {
     "data": {
      "text/plain": [
       "[2319,\n",
       " 166,\n",
       " 4,\n",
       " 226,\n",
       " 2136,\n",
       " 1007,\n",
       " 0,\n",
       " 514,\n",
       " 2955,\n",
       " 28,\n",
       " 8,\n",
       " 4,\n",
       " 212,\n",
       " 88,\n",
       " -1,\n",
       " 38,\n",
       " 0,\n",
       " 17,\n",
       " 523,\n",
       " 146,\n",
       " 11,\n",
       " 0,\n",
       " 174,\n",
       " -1,\n",
       " 86,\n",
       " 0,\n",
       " 58,\n",
       " 1079,\n",
       " 123,\n",
       " 11,\n",
       " 124,\n",
       " 4,\n",
       " 0,\n",
       " 0,\n",
       " 545,\n",
       " 0,\n",
       " 2,\n",
       " 1145,\n",
       " 20,\n",
       " 40,\n",
       " 0,\n",
       " 539,\n",
       " 817,\n",
       " 258,\n",
       " 3,\n",
       " 3,\n",
       " 25,\n",
       " 2,\n",
       " 2,\n",
       " 2,\n",
       " 514,\n",
       " 1718,\n",
       " 28,\n",
       " 171,\n",
       " 41,\n",
       " 8,\n",
       " 142,\n",
       " 1117,\n",
       " 10,\n",
       " 3,\n",
       " 220,\n",
       " 447,\n",
       " 523,\n",
       " 146,\n",
       " 40,\n",
       " 90,\n",
       " 1108,\n",
       " 1047,\n",
       " 170,\n",
       " 368,\n",
       " 278,\n",
       " 64,\n",
       " 44,\n",
       " 5476,\n",
       " 113,\n",
       " 142,\n",
       " 281,\n",
       " 87,\n",
       " 26,\n",
       " 7,\n",
       " 7,\n",
       " 1,\n",
       " 0,\n",
       " 0,\n",
       " 2,\n",
       " 1,\n",
       " 0,\n",
       " 0,\n",
       " 266,\n",
       " 0,\n",
       " 0,\n",
       " 174,\n",
       " 0,\n",
       " 0,\n",
       " 121,\n",
       " 223,\n",
       " 2,\n",
       " 1,\n",
       " 1,\n",
       " 12,\n",
       " 24,\n",
       " 512,\n",
       " 458,\n",
       " 167,\n",
       " 121,\n",
       " 36,\n",
       " 1,\n",
       " 2,\n",
       " 2,\n",
       " 3,\n",
       " 4,\n",
       " 1,\n",
       " 17,\n",
       " 2,\n",
       " 1,\n",
       " 5,\n",
       " 1,\n",
       " 0,\n",
       " 0,\n",
       " 2,\n",
       " 0]"
      ]
     },
     "execution_count": 72,
     "metadata": {},
     "output_type": "execute_result"
    }
   ],
   "source": [
    "new_data_row_2"
   ]
  },
  {
   "cell_type": "code",
   "execution_count": 83,
   "metadata": {},
   "outputs": [
    {
     "data": {
      "text/plain": [
       "{'took': 4,\n",
       " 'total': 1,\n",
       " 'max_score': 426.04236,\n",
       " 'hits': [{'_id': '939278',\n",
       "   '_score': 426.04236,\n",
       "   'entrezgene': '939278',\n",
       "   'name': 'spore protein (HGT island)',\n",
       "   'symbol': 'ykvP',\n",
       "   'taxid': 224308}]}"
      ]
     },
     "execution_count": 83,
     "metadata": {},
     "output_type": "execute_result"
    }
   ],
   "source": [
    "keyword = \"ykvP\"\n",
    "mg.query(keyword)"
   ]
  },
  {
   "cell_type": "code",
   "execution_count": 74,
   "metadata": {},
   "outputs": [
    {
     "data": {
      "text/plain": [
       "1"
      ]
     },
     "execution_count": 74,
     "metadata": {},
     "output_type": "execute_result"
    }
   ],
   "source": [
    "search_results"
   ]
  },
  {
   "cell_type": "code",
   "execution_count": 93,
   "metadata": {},
   "outputs": [
    {
     "data": {
      "text/plain": [
       "{'took': 6,\n",
       " 'total': 4,\n",
       " 'max_score': 413.27167,\n",
       " 'hits': [{'_id': '936190',\n",
       "   '_score': 413.27167,\n",
       "   'entrezgene': '936190',\n",
       "   'name': 'putative membrane hydrolase',\n",
       "   'symbol': 'yfhP',\n",
       "   'taxid': 224308},\n",
       "  {'_id': '1254066',\n",
       "   '_score': 413.27167,\n",
       "   'entrezgene': '1254066',\n",
       "   'name': 'Fe-S cluster assembly transcriptional regulator IscR',\n",
       "   'symbol': 'yfhP',\n",
       "   'taxid': 99287},\n",
       "  {'_id': '107885630',\n",
       "   '_score': 54.268234,\n",
       "   'entrezgene': '107885630',\n",
       "   'name': 'uncharacterized protein YfhP-like',\n",
       "   'symbol': 'LOC107885630',\n",
       "   'taxid': 7029},\n",
       "  {'_id': '945279',\n",
       "   '_score': 8.232498,\n",
       "   'entrezgene': '945279',\n",
       "   'name': 'DNA-binding transcriptional dual regulator IscR',\n",
       "   'symbol': 'iscR',\n",
       "   'taxid': 511145}]}"
      ]
     },
     "execution_count": 93,
     "metadata": {},
     "output_type": "execute_result"
    }
   ],
   "source": [
    "keyword = \"YfhP\"\n",
    "mg.query(keyword)"
   ]
  },
  {
   "cell_type": "code",
   "execution_count": 87,
   "metadata": {},
   "outputs": [],
   "source": [
    "t"
   ]
  },
  {
   "cell_type": "code",
   "execution_count": null,
   "metadata": {},
   "outputs": [],
   "source": []
  }
 ],
 "metadata": {
  "kernelspec": {
   "display_name": "Python 3",
   "language": "python",
   "name": "python3"
  },
  "language_info": {
   "codemirror_mode": {
    "name": "ipython",
    "version": 3
   },
   "file_extension": ".py",
   "mimetype": "text/x-python",
   "name": "python",
   "nbconvert_exporter": "python",
   "pygments_lexer": "ipython3",
   "version": "3.9.0"
  }
 },
 "nbformat": 4,
 "nbformat_minor": 4
}
