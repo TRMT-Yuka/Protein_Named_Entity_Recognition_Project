{
 "cells": [
  {
   "cell_type": "code",
   "execution_count": 1,
   "metadata": {},
   "outputs": [],
   "source": [
    "# !pip install mygene\n",
    "# !pip install biothings_client"
   ]
  },
  {
   "cell_type": "code",
   "execution_count": 1,
   "metadata": {},
   "outputs": [],
   "source": [
    "from biothings_client import get_client\n",
    "mg = get_client(\"gene\")"
   ]
  },
  {
   "cell_type": "code",
   "execution_count": 23,
   "metadata": {},
   "outputs": [],
   "source": [
    "# キーワードの検索結果件数と一覧\n",
    "\n",
    "# mg.query(keyword)\n",
    "\n",
    "# {'took': 12,\n",
    "#  'total': 2307,\n",
    "#  'max_score': 394.02466,\n",
    "#  'hits': [{'_id': '10845',\n",
    "#    '_score': 394.02466,\n",
    "#    'entrezgene': '10845',\n",
    "#    'name': 'caseinolytic mitochondrial matrix peptidase chaperone subunit X',\n",
    "#    'symbol': 'CLPX',\n",
    "#    'taxid': 9606},\n",
    "#   {'_id': '270166',....."
   ]
  },
  {
   "cell_type": "markdown",
   "metadata": {},
   "source": [
    "# gene_infoの各項目"
   ]
  },
  {
   "cell_type": "code",
   "execution_count": 25,
   "metadata": {},
   "outputs": [],
   "source": [
    "gene_info = mg.getgene(\"ENSG00000141570\")"
   ]
  },
  {
   "cell_type": "code",
   "execution_count": 9,
   "metadata": {
    "scrolled": true
   },
   "outputs": [
    {
     "name": "stdout",
     "output_type": "stream",
     "text": [
      "HGNC : <class 'str'>\n",
      "MIM : <class 'str'>\n",
      "_id : <class 'str'>\n",
      "_version : <class 'int'>\n",
      "accession : <class 'dict'>\n",
      "alias : <class 'list'>\n",
      "ensembl : <class 'dict'>\n",
      "entrezgene : <class 'str'>\n",
      "exac : <class 'dict'>\n",
      "exons : <class 'list'>\n",
      "exons_hg19 : <class 'list'>\n",
      "generif : <class 'list'>\n",
      "genomic_pos : <class 'dict'>\n",
      "genomic_pos_hg19 : <class 'list'>\n",
      "go : <class 'dict'>\n",
      "homologene : <class 'dict'>\n",
      "interpro : <class 'list'>\n",
      "ipi : <class 'list'>\n",
      "map_location : <class 'str'>\n",
      "name : <class 'str'>\n",
      "other_names : <class 'list'>\n",
      "pantherdb : <class 'dict'>\n",
      "pathway : <class 'dict'>\n",
      "pdb : <class 'list'>\n",
      "pfam : <class 'list'>\n",
      "pharmgkb : <class 'str'>\n",
      "pharos : <class 'dict'>\n",
      "prosite : <class 'str'>\n",
      "reagent : <class 'dict'>\n",
      "refseq : <class 'dict'>\n",
      "reporter : <class 'dict'>\n",
      "retired : <class 'list'>\n",
      "symbol : <class 'str'>\n",
      "taxid : <class 'int'>\n",
      "type_of_gene : <class 'str'>\n",
      "umls : <class 'dict'>\n",
      "unigene : <class 'str'>\n",
      "uniprot : <class 'dict'>\n",
      "wikipedia : <class 'dict'>\n"
     ]
    }
   ],
   "source": [
    "for key,value in gene_info.items():\n",
    "    print(key,\":\",type(value))"
   ]
  },
  {
   "cell_type": "code",
   "execution_count": 30,
   "metadata": {},
   "outputs": [
    {
     "data": {
      "text/plain": [
       "['2N4Q', '3I91', '5EQ0']"
      ]
     },
     "execution_count": 30,
     "metadata": {},
     "output_type": "execute_result"
    }
   ],
   "source": [
    "gene_info[\"ensembl\"]\n",
    "# {'gene': 'ENSG00000141570',\n",
    "#  'protein': ['ENSP00000269385', 'ENSP00000405058', 'ENSP00000408753'],\n",
    "#  'transcript': ['ENST00000269385',....],\n",
    "#  'translation': [{'protein': 'ENSP00000269385', 'rna': 'ENST00000269385'},....],\n",
    "#  'type_of_gene': 'protein_coding'}\n",
    "gene_info[\"ensembl\"][\"gene\"]\n",
    "# 遺伝子に関する情報\n",
    "gene_info[\"ensembl\"][\"protein\"]\n",
    "# 生成されるタンパク質種類\n",
    "\n",
    "gene_info[\"entrezgene\"]\n",
    "#人間とか犬とか生物のカテゴリを表すID\n",
    "\n",
    "gene_info[\"pdb\"]\n",
    "#PDB IDは重複しない４文字のコードで、タンパク質\n",
    "#データバンクの各エントリーに割り振られます。\n",
    "#最初の文字は必ず1から9までの数字で、残りの３文字は\n",
    "#アルファベットまたは数字が使われます。\n",
    "\n",
    "gene_info[\"generif\"]\n",
    "# 文献と出現テキストのリスト\n",
    "# [{'pubmed': 17332741,'text': 'CBX8 is an essenti...'}]\n",
    "\n",
    "gene_info[\"name\"]\n",
    "#正式名称\n",
    "\n",
    "gene_info[\"other_names\"]\n",
    "# 正式名称表記ゆれ\n",
    "\n",
    "gene_info[\"pdb\"]\n",
    "#タンパク質固有ID\n",
    "# ['2N4Q', '3I91', '5EQ0']"
   ]
  },
  {
   "cell_type": "markdown",
   "metadata": {},
   "source": [
    "# データの読み込み"
   ]
  },
  {
   "cell_type": "code",
   "execution_count": 10,
   "metadata": {},
   "outputs": [
    {
     "data": {
      "text/plain": [
       "dict"
      ]
     },
     "execution_count": 10,
     "metadata": {},
     "output_type": "execute_result"
    }
   ],
   "source": []
  },
  {
   "cell_type": "code",
   "execution_count": 3,
   "metadata": {},
   "outputs": [],
   "source": [
    "import pandas as pd\n",
    "data = pd.read_csv('data_summary/PROT/lll_bioc_prot.csv').values.tolist()"
   ]
  },
  {
   "cell_type": "code",
   "execution_count": 4,
   "metadata": {},
   "outputs": [],
   "source": [
    "import copy\n",
    "new_data = copy.deepcopy(data)"
   ]
  },
  {
   "cell_type": "code",
   "execution_count": 5,
   "metadata": {},
   "outputs": [
    {
     "data": {
      "text/plain": [
       "[['ClpX', 6],\n",
       " ['ComK', 10],\n",
       " ['CsbB', 2],\n",
       " ['CtsR', 6],\n",
       " ['DnaK', 8],\n",
       " ['E sigma E', 6],\n",
       " ['EsigmaF', 8],\n",
       " ['FlgM', 13],\n",
       " ['FtsZ', 25],\n",
       " ['GerE', 210],\n",
       " ['KatX', 8],\n",
       " ['KinC', 2],\n",
       " ['KinD', 2],\n",
       " ['PBP4*', 7],\n",
       " ['PhoP~P', 3]]"
      ]
     },
     "execution_count": 5,
     "metadata": {},
     "output_type": "execute_result"
    }
   ],
   "source": [
    "new_data[0:15]"
   ]
  },
  {
   "cell_type": "code",
   "execution_count": 62,
   "metadata": {},
   "outputs": [],
   "source": [
    "# import urllib"
   ]
  },
  {
   "cell_type": "code",
   "execution_count": 107,
   "metadata": {},
   "outputs": [],
   "source": [
    "label = [\"protein\",\"appearances\",\"hits\",\"max_score_hits\"]"
   ]
  },
  {
   "cell_type": "code",
   "execution_count": 35,
   "metadata": {
    "scrolled": true
   },
   "outputs": [],
   "source": [
    "from biothings_client import get_client\n",
    "import copy\n",
    "import json\n",
    "import pandas as pd\n",
    "import csv\n",
    "#当然ながらネット接続時でないとエラーになる\n",
    "\n",
    "# 生成先のディレクトリは手動作成\n",
    "def get_Query(filename):\n",
    "    mg = get_client(\"gene\")\n",
    "    data = pd.read_csv('data_summary/PROT/'+filename+'_prot.csv').values.tolist()\n",
    "    new_data = copy.deepcopy(data)\n",
    "    \n",
    "    for i in range(len(new_data)):\n",
    "        keyword = new_data[i][0]\n",
    "        max_score_hit = []\n",
    "\n",
    "        try:\n",
    "            max_score_hit = []\n",
    "            result = mg.query(keyword)\n",
    "            wf = open('data_query/QUERY/all/'+filename+'/'+str(i)+'_'+keyword+'.json','w',encoding='UTF-8',newline='\\n')\n",
    "            wf.write(json.dumps(result))\n",
    "            wf.close()\n",
    "\n",
    "            search_results = result[\"total\"]\n",
    "            max_score = result[\"max_score\"]\n",
    "\n",
    "            if search_results != 0:\n",
    "                wf = open('data_query/QUERY/best_score/'+filename+'/'+str(i)+'_'+keyword+'.json','w',encoding='UTF-8',newline='\\n')\n",
    "                for hit in result[\"hits\"]:\n",
    "                    if hit[\"_score\"] == max_score:\n",
    "                        wf.write(json.dumps(hit))\n",
    "                        wf.write(\"\\n\")\n",
    "                        max_score_hit.append(hit)\n",
    "                wf.close()\n",
    "            print(i,\"/\",len(new_data)-1,\"   \",keyword,\"=>\",search_results,\"(max_hits\",len(max_score_hit),\")\")\n",
    "\n",
    "            \n",
    "\n",
    "        except:\n",
    "            print(i,\"/\",len(new_data),\"   HTTPError\")\n",
    "            search_results = -1\n",
    "\n",
    "        new_data[i].append(search_results)\n",
    "        new_data[i].append(len(max_score_hit))\n",
    "\n",
    "    label = [\"protein\",\"appearances\",\"hits\",\"max_score_hits\"]\n",
    "    new_data.insert(0, label)\n",
    "    with open(\"data_query/PROT/\"+filename+\"_result.csv\", \"w\") as f:\n",
    "        writer = csv.writer(f, lineterminator='\\n')#ここ大事\n",
    "        writer.writerows(new_data)"
   ]
  },
  {
   "cell_type": "code",
   "execution_count": 36,
   "metadata": {},
   "outputs": [],
   "source": [
    "import os\n",
    "files = os.listdir(\"data_original\")\n",
    "\n",
    "val_name = []\n",
    "for a_file in files:\n",
    "    with open(\"data_original/\"+a_file, 'r') as fp:\n",
    "        dynmc_name = a_file.replace(\".xml\",\"\")\n",
    "        val_name.append(dynmc_name)"
   ]
  },
  {
   "cell_type": "code",
   "execution_count": 37,
   "metadata": {},
   "outputs": [
    {
     "data": {
      "text/plain": [
       "['aimed_bioc', 'bioinfer_bioc', 'hprd50_bioc', 'iepa_bioc', 'lll_bioc']"
      ]
     },
     "execution_count": 37,
     "metadata": {},
     "output_type": "execute_result"
    }
   ],
   "source": [
    "val_name"
   ]
  },
  {
   "cell_type": "code",
   "execution_count": 38,
   "metadata": {},
   "outputs": [
    {
     "name": "stdout",
     "output_type": "stream",
     "text": [
      "hprd50_bioc\n",
      "0 / 187     ADAM 12 => 2086 (max_hits 2 )\n",
      "1 / 187     AP-1 => 21456 (max_hits 7 )\n",
      "2 / 187     AP180 => 917 (max_hits 2 )\n",
      "3 / 187     ARF => 16331 (max_hits 10 )\n",
      "4 / 187     BCL-6 => 1378 (max_hits 10 )\n",
      "5 / 187     Bcl3 => 384 (max_hits 1 )\n",
      "6 / 187     CASP10 => 394 (max_hits 1 )\n",
      "7 / 187     CB1 => 730 (max_hits 10 )\n",
      "8 / 187     CCR2 => 283 (max_hits 1 )\n",
      "9 / 187     CD148 => 2 (max_hits 1 )\n",
      "10 / 187     CD162 => 2 (max_hits 1 )\n",
      "11 / 187     CD18 => 20 (max_hits 1 )\n",
      "12 / 187     CD22 => 3162 (max_hits 1 )\n",
      "13 / 187     CD43 => 11 (max_hits 2 )\n",
      "14 / 187     CD45 => 32 (max_hits 4 )\n",
      "15 / 187     CD53 => 814 (max_hits 1 )\n",
      "16 / 187     CD69 => 441 (max_hits 1 )\n",
      "17 / 187     CG beta => 370 (max_hits 2 )\n",
      "18 / 187     CG beta alpha => 362 (max_hits 2 )\n",
      "19 / 187     CLIP-170 => 14 (max_hits 1 )\n",
      "20 / 187     CR6 => 16 (max_hits 1 )\n",
      "21 / 187     CREB => 4361 (max_hits 10 )\n",
      "22 / 187     CTD => 12116 (max_hits 1 )\n",
      "23 / 187     CdGAP => 9 (max_hits 4 )\n",
      "24 / 187     Cdc25 => 434 (max_hits 10 )\n",
      "25 / 187     Cdc42 => 10957 (max_hits 1 )\n",
      "26 / 187     Cdk1 => 539 (max_hits 1 )\n",
      "27 / 187     Chk1 => 914 (max_hits 10 )\n",
      "28 / 187     Cytohesin-1 => 1878 (max_hits 1 )\n",
      "29 / 187     DEP1 => 66 (max_hits 1 )\n",
      "30 / 187     DGKdelta => 2 (max_hits 1 )\n",
      "31 / 187     DRS => 39 (max_hits 1 )\n",
      "32 / 187     Dnmt3a => 372 (max_hits 1 )\n",
      "33 / 187     Dnmt3b => 345 (max_hits 1 )\n",
      "34 / 187     E-cadherin => 107 (max_hits 1 )\n",
      "35 / 187     E2-2 => 5411 (max_hits 10 )\n",
      "36 / 187     Egr1 => 1394 (max_hits 1 )\n",
      "37 / 187     Etfb => 460 (max_hits 1 )\n",
      "38 / 187     Etfdh => 504 (max_hits 1 )\n",
      "39 / 187     FGF-1 => 818 (max_hits 4 )\n",
      "40 / 187     FGF-1.B => 49 (max_hits 1 )\n",
      "41 / 187     FGF-2 => 588 (max_hits 4 )\n",
      "42 / 187     FGF-8 => 62 (max_hits 1 )\n",
      "43 / 187     FGFR4 => 738 (max_hits 1 )\n",
      "44 / 187     FSH beta => 397 (max_hits 4 )\n",
      "45 / 187     GAB => 22 (max_hits 1 )\n",
      "46 / 187     GADD45a => 349 (max_hits 1 )\n",
      "47 / 187     GADD45b => 370 (max_hits 1 )\n",
      "48 / 187     GADD45g => 735 (max_hits 1 )\n",
      "49 / 187     GAP => 30395 (max_hits 10 )\n",
      "50 / 187     GC-GAP => 5 (max_hits 2 )\n",
      "51 / 187     GPI-80 => 8 (max_hits 1 )\n",
      "52 / 187     GST => 1992 (max_hits 10 )\n",
      "53 / 187     GTPase-activating protein => 67382 (max_hits 1 )\n",
      "54 / 187     Gab1 => 621 (max_hits 1 )\n",
      "55 / 187     Gab2 => 485 (max_hits 1 )\n",
      "56 / 187     Gadd45 => 2138 (max_hits 1 )\n",
      "57 / 187     Gadd45a => 349 (max_hits 1 )\n",
      "58 / 187     Gadd45b => 370 (max_hits 1 )\n",
      "59 / 187     Gadd45g => 735 (max_hits 1 )\n",
      "60 / 187     Grb2 => 8365 (max_hits 1 )\n",
      "61 / 187     HDAC1 => 595 (max_hits 1 )\n",
      "62 / 187     Hif1 alpha => 21 (max_hits 1 )\n",
      "63 / 187     Hsp90 => 3992 (max_hits 10 )\n",
      "64 / 187     Hsp90beta => 10 (max_hits 1 )\n",
      "65 / 187     IFN => 742 (max_hits 2 )\n",
      "66 / 187     IFN alpha => 308 (max_hits 2 )\n",
      "67 / 187     IL-2 => 303 (max_hits 8 )\n",
      "68 / 187     IL-4 => 132 (max_hits 3 )\n",
      "69 / 187     IL-6 => 273 (max_hits 2 )\n",
      "70 / 187     IL-6 receptor => 90 (max_hits 1 )\n",
      "71 / 187     IL-8 => 92 (max_hits 3 )\n",
      "72 / 187     IkappaBbeta => 3 (max_hits 1 )\n",
      "73 / 187     Imp3 => 1276 (max_hits 1 )\n",
      "74 / 187     Imp4 => 1287 (max_hits 1 )\n",
      "75 / 187     Interleukin-6 => 2869 (max_hits 1 )\n",
      "76 / 187     Jak2 => 878 (max_hits 1 )\n",
      "77 / 187     Janus kinase 2 => 2016 (max_hits 10 )\n",
      "78 / 187     KIAA1427 => 0 (max_hits 0 )\n",
      "79 / 187     LDL receptor => 7183 (max_hits 1 )\n",
      "80 / 187     LDLR => 813 (max_hits 1 )\n",
      "81 / 187     LFA-1 => 21 (max_hits 1 )\n",
      "82 / 187     LH beta => 375 (max_hits 1 )\n",
      "83 / 187     LIS1 => 64 (max_hits 5 )\n",
      "84 / 187     MCP-1 => 65 (max_hits 3 )\n",
      "85 / 187     MEF2A => 807 (max_hits 1 )\n",
      "86 / 187     MSH2 => 1307 (max_hits 1 )\n",
      "87 / 187     Megalin => 19 (max_hits 1 )\n",
      "88 / 187     MyD118 => 4 (max_hits 1 )\n",
      "89 / 187     NF-E2 => 452 (max_hits 1 )\n",
      "90 / 187     NF-E2-related factor 2 => 1043 (max_hits 10 )\n",
      "91 / 187     NRF2 => 32 (max_hits 4 )\n",
      "92 / 187     Nck => 5240 (max_hits 4 )\n",
      "93 / 187     NudC => 4741 (max_hits 1 )\n",
      "94 / 187     OX1R => 6 (max_hits 1 )\n",
      "95 / 187     P-selectin glycoprotein ligand 1 => 1419 (max_hits 10 )\n",
      "96 / 187     PC-3 => 2125 (max_hits 10 )\n",
      "97 / 187     PG-M => 46 (max_hits 1 )\n",
      "98 / 187     PGs => 12 (max_hits 3 )\n",
      "99 / 187     PIAS1 => 872 (max_hits 1 )\n",
      "100 / 187     PIASxalpha => 1 (max_hits 1 )\n",
      "101 / 187     PLCgamma1 => 5 (max_hits 2 )\n",
      "102 / 187     PTP-1C => 2 (max_hits 1 )\n",
      "103 / 187     PTP-PEST => 7 (max_hits 1 )\n",
      "104 / 187     Pinin => 1379 (max_hits 1 )\n",
      "105 / 187     Plk1 => 2362 (max_hits 1 )\n",
      "106 / 187     RANTES => 29 (max_hits 1 )\n",
      "107 / 187     Rac1 => 6520 (max_hits 1 )\n",
      "108 / 187     Rad17 => 1325 (max_hits 1 )\n",
      "109 / 187     Raf1 => 541 (max_hits 1 )\n",
      "110 / 187     SMC => 6369 (max_hits 1 )\n",
      "111 / 187     SMC1 => 110 (max_hits 10 )\n",
      "112 / 187     SRC-1 => 2373 (max_hits 1 )\n",
      "113 / 187     SRcyp => 2 (max_hits 1 )\n",
      "114 / 187     SRm300 => 10 (max_hits 1 )\n",
      "115 / 187     SRp75 => 11 (max_hits 1 )\n",
      "116 / 187     STAT3 => 589 (max_hits 1 )\n",
      "117 / 187     SUMO-1 => 3422 (max_hits 1 )\n",
      "118 / 187     Shp-2 => 27 (max_hits 1 )\n",
      "119 / 187     Siglec-1 => 240 (max_hits 1 )\n",
      "120 / 187     Syt => 33 (max_hits 2 )\n",
      "121 / 187     Syt XIII => 4 (max_hits 4 )\n",
      "122 / 187     TAF(II)250 => 3 (max_hits 1 )\n",
      "123 / 187     TBP => 4209 (max_hits 1 )\n",
      "124 / 187     TBP-1 => 566 (max_hits 1 )\n",
      "125 / 187     TFIIA => 577 (max_hits 3 )\n",
      "126 / 187     TFIIB => 1075 (max_hits 7 )\n",
      "127 / 187     TFIID => 21412 (max_hits 4 )\n",
      "128 / 187     TFIIIC => 335 (max_hits 1 )\n",
      "129 / 187     TFIIIC102 => 4 (max_hits 1 )\n",
      "130 / 187     TFIIIC63 => 2 (max_hits 1 )\n",
      "131 / 187     TR2 => 26 (max_hits 2 )\n",
      "132 / 187     Tat-binding protein-1 => 89 (max_hits 7 )\n",
      "133 / 187     Tyk-2 => 3 (max_hits 1 )\n",
      "134 / 187     Ubc9 => 1481 (max_hits 10 )\n",
      "135 / 187     VHL => 923 (max_hits 1 )\n",
      "136 / 187     acidic FGF (FGF-1) => 34 (max_hits 10 )\n",
      "137 / 187     amyloid => 10772 (max_hits 3 )\n",
      "138 / 187     androgen receptor => 1239 (max_hits 1 )\n",
      "139 / 187     apoB => 399 (max_hits 1 )\n",
      "140 / 187     basic FGF (FGF-2) => 31 (max_hits 10 )\n",
      "141 / 187     beta 2 integrin => 2632 (max_hits 10 )\n",
      "142 / 187     beta-amyloid => 7491 (max_hits 10 )\n",
      "143 / 187     beta-catenin => 5611 (max_hits 7 )\n",
      "144 / 187     biglycan => 497 (max_hits 1 )\n",
      "145 / 187     c-myc => 2143 (max_hits 1 )\n",
      "146 / 187     cAMP-response-element-binding-protein => 90 (max_hits 2 )\n",
      "147 / 187     cdc2 => 1362 (max_hits 10 )\n",
      "148 / 187     cubilin => 2421 (max_hits 1 )\n",
      "149 / 187     cystatin alpha => 10 (max_hits 1 )\n",
      "150 / 187     cytidine deaminase => 4715 (max_hits 1 )\n",
      "151 / 187     cytohesin-1 => 1878 (max_hits 1 )\n",
      "152 / 187     decorin => 654 (max_hits 1 )\n",
      "153 / 187     desmoplakin => 870 (max_hits 4 )\n",
      "154 / 187     elafin => 177 (max_hits 10 )\n",
      "155 / 187     glutathione S-transferase => 41341 (max_hits 10 )\n",
      "156 / 187     glutathione-S-transferase => 41341 (max_hits 1 )\n",
      "157 / 187     gp130 => 123 (max_hits 5 )\n",
      "158 / 187     heparan sulfate proteoglycan => 1663 (max_hits 1 )\n",
      "159 / 187     histone deacetylase-1 => 1639 (max_hits 1 )\n",
      "160 / 187     homodimer => 182 (max_hits 1 )\n",
      "161 / 187     involucrin => 714 (max_hits 1 )\n",
      "162 / 187     loricrin => 1582 (max_hits 1 )\n",
      "163 / 187     low density lipoprotein receptor => 15628 (max_hits 2 )\n",
      "164 / 187     monocyte chemotactic protein-1 => 36 (max_hits 1 )\n",
      "165 / 187     oncostatin M => 1058 (max_hits 10 )\n",
      "166 / 187     orexin 1 receptor => 1475 (max_hits 1 )\n",
      "167 / 187     p120(ctn) => 7 (max_hits 1 )\n",
      "168 / 187     p300 => 4041 (max_hits 1 )\n",
      "169 / 187     p85alpha => 1 (max_hits 1 )\n",
      "170 / 187     pVHL => 10 (max_hits 1 )\n",
      "171 / 187     paxillin => 1131 (max_hits 1 )\n",
      "172 / 187     perlecan => 30 (max_hits 3 )\n",
      "173 / 187     peroxisome proliferator-activated receptor gamma => 2807 (max_hits 1 )\n",
      "174 / 187     phosphatidylinositol 3-kinase => 11641 (max_hits 1 )\n",
      "175 / 187     phosphatidylinositol-3 kinase => 11641 (max_hits 1 )\n",
      "176 / 187     phospho-LIS1 => 0 (max_hits 0 )\n",
      "177 / 187     phospholipase C-gamma1 => 3 (max_hits 1 )\n",
      "178 / 187     pleckstrin => 30251 (max_hits 1 )\n",
      "179 / 187     protein tyrosine phosphatase 1C => 3 (max_hits 1 )\n",
      "180 / 187     raf1 => 541 (max_hits 1 )\n",
      "181 / 187     receptor protein tyrosine phosphatase => 31218 (max_hits 1 )\n",
      "182 / 187     receptor-like protein tyrosine phosphatase => 10259 (max_hits 1 )\n",
      "183 / 187     serum albumin => 310 (max_hits 10 )\n",
      "184 / 187     sialoadhesin => 1600 (max_hits 10 )\n",
      "185 / 187     snoRNA => 2378 (max_hits 10 )\n",
      "186 / 187     splicing factor SC35 => 1332 (max_hits 4 )\n",
      "187 / 187     versican => 837 (max_hits 1 )\n"
     ]
    }
   ],
   "source": [
    "for filename in val_name[2:3]:\n",
    "    print(filename)\n",
    "    get_Query(filename)"
   ]
  },
  {
   "cell_type": "code",
   "execution_count": 108,
   "metadata": {},
   "outputs": [],
   "source": [
    "new_data.insert(0, label)"
   ]
  },
  {
   "cell_type": "code",
   "execution_count": 109,
   "metadata": {
    "scrolled": true
   },
   "outputs": [
    {
     "data": {
      "text/plain": [
       "[['protein', 'appearances', 'hits', 'max_score_hits'],\n",
       " ['ClpX', 6, 2319, 1],\n",
       " ['ComK', 10, 166, 3],\n",
       " ['CsbB', 2, 4, 3],\n",
       " ['CtsR', 6, 226, 1],\n",
       " ['DnaK', 8, 2136, 10],\n",
       " ['E sigma E', 6, 1007, 10],\n",
       " ['EsigmaF', 8, 0, 0],\n",
       " ['FlgM', 13, 514, 10],\n",
       " ['FtsZ', 25, 2955, 10],\n",
       " ['GerE', 210, 28, 10],\n",
       " ['KatX', 8, 8, 7],\n",
       " ['KinC', 2, 4, 3],\n",
       " ['KinD', 2, 212, 2],\n",
       " ['PBP4*', 7, 88, 10],\n",
       " ['PhoP~P', 3, -1, 0],\n",
       " ['RacX', 7, 38, 1],\n",
       " ['RbsW', 8, 0, 0],\n",
       " ['RocR', 4, 17, 2],\n",
       " ['SigE', 6, 523, 10],\n",
       " ['SigK', 12, 146, 10],\n",
       " ['SigL', 5, 11, 4],\n",
       " ['Spo0', 1, 0, 0],\n",
       " ['Spo0A', 13, 174, 10],\n",
       " ['Spo0A~P', 2, -1, 0],\n",
       " ['SpoIIAA', 23, 86, 10],\n",
       " ['SpoIIAA-P', 12, 0, 0],\n",
       " ['SpoIIAB', 14, 58, 10],\n",
       " ['SpoIIE', 75, 1079, 10],\n",
       " ['SpoIIID', 60, 123, 10],\n",
       " ['YdjP', 7, 11, 4],\n",
       " ['YfhM', 7, 124, 7],\n",
       " ['YfhP', 6, 4, 2],\n",
       " ['YknXYZ', 7, 0, 0],\n",
       " ['YteI', 7, 0, 0],\n",
       " ['YtxH', 3, 545, 1],\n",
       " ['YuaG', 7, 0, 0],\n",
       " ['YvyD', 3, 2, 1],\n",
       " ['ald', 9, 1145, 10],\n",
       " ['araE', 1, 20, 10],\n",
       " ['bkd', 1, 40, 1],\n",
       " ['bmrUR', 7, 0, 0],\n",
       " ['clpC', 12, 539, 10],\n",
       " ['comF', 5, 817, 1],\n",
       " ['cot', 39, 258, 10],\n",
       " ['cotB', 80, 3, 3],\n",
       " ['cotC', 80, 3, 3],\n",
       " ['cotD', 76, 25, 7],\n",
       " ['cotX', 83, 2, 1],\n",
       " ['cwlH', 2, 2, 1],\n",
       " ['degR', 15, 2, 2],\n",
       " ['flgM', 5, 514, 10],\n",
       " ['ftsY', 2, 1718, 10],\n",
       " ['gerE', 40, 28, 10],\n",
       " ['gsiB', 2, 171, 10],\n",
       " ['hag', 5, 41, 10],\n",
       " ['katX', 24, 8, 7],\n",
       " ['kdgR', 1, 142, 10],\n",
       " ['nadE', 1, 1117, 10],\n",
       " ['phrC', 1, 10, 2],\n",
       " ['rocG', 8, 3, 3],\n",
       " ['rsfA', 2, 220, 3],\n",
       " ['sigB', 2, 447, 10],\n",
       " ['sigE', 27, 523, 10],\n",
       " ['sigK', 38, 146, 10],\n",
       " ['sigW', 1, 40, 10],\n",
       " ['sigX', 3, 90, 10],\n",
       " ['sigma 28', 8, 1108, 10],\n",
       " ['sigma 32', 8, 1047, 10],\n",
       " ['sigma B', 11, 170, 10],\n",
       " ['sigma F', 9, 368, 10],\n",
       " ['sigma G', 8, 278, 10],\n",
       " ['sigma W', 7, 64, 10],\n",
       " ['sigma X', 2, 44, 10],\n",
       " ['sigma(54)', 4, 5476, 3],\n",
       " ['sigma(A)', 7, 113, 1],\n",
       " ['sigma(B)', 3, 142, 2],\n",
       " ['sigma(F)', 7, 281, 10],\n",
       " ['sigma(G)', 4, -1, 0],\n",
       " ['sigma(H)', 5, 26, 1],\n",
       " ['sigma(K)', 44, 7, 1],\n",
       " ['sigma(X)', 3, 7, 3],\n",
       " ['sigmaA', 34, 1, 1],\n",
       " ['sigmaB', 87, 0, 0],\n",
       " ['sigmaD', 15, 0, 0],\n",
       " ['sigmaE', 1, 2, 1],\n",
       " ['sigmaF', 59, 1, 1],\n",
       " ['sigmaG', 15, 0, 0],\n",
       " ['sigmaH', 22, 0, 0],\n",
       " ['sigmaK', 106, 266, 1],\n",
       " ['sigmaL', 9, 0, 0],\n",
       " ['sigmaW', 1, 0, 0],\n",
       " ['spo0A', 2, 174, 10],\n",
       " ['spo0H', 1, 0, 0],\n",
       " ['spoIIG', 4, 0, 0],\n",
       " ['spoIVA', 1, 121, 10],\n",
       " ['spoVG', 2, 223, 10],\n",
       " ['sspE', 6, 2, 2],\n",
       " ['sspG', 3, 1, 1],\n",
       " ['sspH', 6, 1, 1],\n",
       " ['sspJ', 3, 12, 5],\n",
       " ['sspL', 6, 24, 10],\n",
       " ['sspN', 6, 512, 1],\n",
       " ['tagA', 3, 458, 8],\n",
       " ['tagD', 3, 167, 10],\n",
       " ['tlp', 6, 121, 10],\n",
       " ['tuaA', 3, 36, 1],\n",
       " ['ydaE', 7, 1, 1],\n",
       " ['ydaG', 7, 2, 2],\n",
       " ['ydaP', 7, 2, 1],\n",
       " ['ydhD', 6, 3, 2],\n",
       " ['yfhP', 6, 4, 2],\n",
       " ['yfhQ', 6, 1, 1],\n",
       " ['yfhR', 6, 17, 2],\n",
       " ['yfhS', 6, 2, 1],\n",
       " ['yfkM', 7, 1, 1],\n",
       " ['ykuD', 6, 5, 1],\n",
       " ['ykvP', 6, 1, 1],\n",
       " ['ykzA', 1, 0, 0],\n",
       " ['ypuN', 3, 0, 0],\n",
       " ['yvyD', 36, 2, 1],\n",
       " ['ywhE', 2, 0, 0]]"
      ]
     },
     "execution_count": 109,
     "metadata": {},
     "output_type": "execute_result"
    }
   ],
   "source": [
    "new_data"
   ]
  },
  {
   "cell_type": "code",
   "execution_count": 110,
   "metadata": {},
   "outputs": [],
   "source": [
    "import csv\n",
    "filename = \"lll_bioc_result.csv\"\n",
    "with open(\"data_query/PROT/\"+filename, \"w\") as f:\n",
    "    writer = csv.writer(f, lineterminator='\\n')#ここ大事\n",
    "    writer.writerows(new_data)"
   ]
  },
  {
   "cell_type": "code",
   "execution_count": 68,
   "metadata": {},
   "outputs": [],
   "source": [
    "new_data_row_2 = [row[2] for row in new_data]"
   ]
  },
  {
   "cell_type": "code",
   "execution_count": 72,
   "metadata": {
    "scrolled": true
   },
   "outputs": [
    {
     "data": {
      "text/plain": [
       "[2319,\n",
       " 166,\n",
       " 4,\n",
       " 226,\n",
       " 2136,\n",
       " 1007,\n",
       " 0,\n",
       " 514,\n",
       " 2955,\n",
       " 28,\n",
       " 8,\n",
       " 4,\n",
       " 212,\n",
       " 88,\n",
       " -1,\n",
       " 38,\n",
       " 0,\n",
       " 17,\n",
       " 523,\n",
       " 146,\n",
       " 11,\n",
       " 0,\n",
       " 174,\n",
       " -1,\n",
       " 86,\n",
       " 0,\n",
       " 58,\n",
       " 1079,\n",
       " 123,\n",
       " 11,\n",
       " 124,\n",
       " 4,\n",
       " 0,\n",
       " 0,\n",
       " 545,\n",
       " 0,\n",
       " 2,\n",
       " 1145,\n",
       " 20,\n",
       " 40,\n",
       " 0,\n",
       " 539,\n",
       " 817,\n",
       " 258,\n",
       " 3,\n",
       " 3,\n",
       " 25,\n",
       " 2,\n",
       " 2,\n",
       " 2,\n",
       " 514,\n",
       " 1718,\n",
       " 28,\n",
       " 171,\n",
       " 41,\n",
       " 8,\n",
       " 142,\n",
       " 1117,\n",
       " 10,\n",
       " 3,\n",
       " 220,\n",
       " 447,\n",
       " 523,\n",
       " 146,\n",
       " 40,\n",
       " 90,\n",
       " 1108,\n",
       " 1047,\n",
       " 170,\n",
       " 368,\n",
       " 278,\n",
       " 64,\n",
       " 44,\n",
       " 5476,\n",
       " 113,\n",
       " 142,\n",
       " 281,\n",
       " 87,\n",
       " 26,\n",
       " 7,\n",
       " 7,\n",
       " 1,\n",
       " 0,\n",
       " 0,\n",
       " 2,\n",
       " 1,\n",
       " 0,\n",
       " 0,\n",
       " 266,\n",
       " 0,\n",
       " 0,\n",
       " 174,\n",
       " 0,\n",
       " 0,\n",
       " 121,\n",
       " 223,\n",
       " 2,\n",
       " 1,\n",
       " 1,\n",
       " 12,\n",
       " 24,\n",
       " 512,\n",
       " 458,\n",
       " 167,\n",
       " 121,\n",
       " 36,\n",
       " 1,\n",
       " 2,\n",
       " 2,\n",
       " 3,\n",
       " 4,\n",
       " 1,\n",
       " 17,\n",
       " 2,\n",
       " 1,\n",
       " 5,\n",
       " 1,\n",
       " 0,\n",
       " 0,\n",
       " 2,\n",
       " 0]"
      ]
     },
     "execution_count": 72,
     "metadata": {},
     "output_type": "execute_result"
    }
   ],
   "source": [
    "new_data_row_2"
   ]
  },
  {
   "cell_type": "code",
   "execution_count": 83,
   "metadata": {},
   "outputs": [
    {
     "data": {
      "text/plain": [
       "{'took': 4,\n",
       " 'total': 1,\n",
       " 'max_score': 426.04236,\n",
       " 'hits': [{'_id': '939278',\n",
       "   '_score': 426.04236,\n",
       "   'entrezgene': '939278',\n",
       "   'name': 'spore protein (HGT island)',\n",
       "   'symbol': 'ykvP',\n",
       "   'taxid': 224308}]}"
      ]
     },
     "execution_count": 83,
     "metadata": {},
     "output_type": "execute_result"
    }
   ],
   "source": [
    "keyword = \"ykvP\"\n",
    "mg.query(keyword)"
   ]
  },
  {
   "cell_type": "code",
   "execution_count": 74,
   "metadata": {},
   "outputs": [
    {
     "data": {
      "text/plain": [
       "1"
      ]
     },
     "execution_count": 74,
     "metadata": {},
     "output_type": "execute_result"
    }
   ],
   "source": [
    "search_results"
   ]
  },
  {
   "cell_type": "code",
   "execution_count": 93,
   "metadata": {},
   "outputs": [
    {
     "data": {
      "text/plain": [
       "{'took': 6,\n",
       " 'total': 4,\n",
       " 'max_score': 413.27167,\n",
       " 'hits': [{'_id': '936190',\n",
       "   '_score': 413.27167,\n",
       "   'entrezgene': '936190',\n",
       "   'name': 'putative membrane hydrolase',\n",
       "   'symbol': 'yfhP',\n",
       "   'taxid': 224308},\n",
       "  {'_id': '1254066',\n",
       "   '_score': 413.27167,\n",
       "   'entrezgene': '1254066',\n",
       "   'name': 'Fe-S cluster assembly transcriptional regulator IscR',\n",
       "   'symbol': 'yfhP',\n",
       "   'taxid': 99287},\n",
       "  {'_id': '107885630',\n",
       "   '_score': 54.268234,\n",
       "   'entrezgene': '107885630',\n",
       "   'name': 'uncharacterized protein YfhP-like',\n",
       "   'symbol': 'LOC107885630',\n",
       "   'taxid': 7029},\n",
       "  {'_id': '945279',\n",
       "   '_score': 8.232498,\n",
       "   'entrezgene': '945279',\n",
       "   'name': 'DNA-binding transcriptional dual regulator IscR',\n",
       "   'symbol': 'iscR',\n",
       "   'taxid': 511145}]}"
      ]
     },
     "execution_count": 93,
     "metadata": {},
     "output_type": "execute_result"
    }
   ],
   "source": [
    "keyword = \"YfhP\"\n",
    "mg.query(keyword)"
   ]
  },
  {
   "cell_type": "code",
   "execution_count": 87,
   "metadata": {},
   "outputs": [],
   "source": [
    "t"
   ]
  },
  {
   "cell_type": "code",
   "execution_count": null,
   "metadata": {},
   "outputs": [],
   "source": []
  }
 ],
 "metadata": {
  "kernelspec": {
   "display_name": "Python 3",
   "language": "python",
   "name": "python3"
  },
  "language_info": {
   "codemirror_mode": {
    "name": "ipython",
    "version": 3
   },
   "file_extension": ".py",
   "mimetype": "text/x-python",
   "name": "python",
   "nbconvert_exporter": "python",
   "pygments_lexer": "ipython3",
   "version": "3.9.0"
  }
 },
 "nbformat": 4,
 "nbformat_minor": 4
}
